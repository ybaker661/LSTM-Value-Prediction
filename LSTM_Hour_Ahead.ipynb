{
  "nbformat": 4,
  "nbformat_minor": 0,
  "metadata": {
    "colab": {
      "provenance": [],
      "collapsed_sections": [
        "B1BqM4kp59Nd",
        "8fRU9bTL59Ne",
        "YKp9Ndf959Ne",
        "UfQ8Thmp-XyU",
        "mWWGXAkudzVo"
      ],
      "toc_visible": true
    },
    "kernelspec": {
      "name": "python3",
      "display_name": "Python 3"
    },
    "language_info": {
      "name": "python"
    }
  },
  "cells": [
    {
      "cell_type": "markdown",
      "source": [
        "# Imports"
      ],
      "metadata": {
        "id": "endTCX6RCROL"
      }
    },
    {
      "cell_type": "code",
      "source": [
        "#uncomment if connected to colab instance instead of local instance\n",
        "# from google.colab import drive\n",
        "# drive.mount('/content/gdrive')\n",
        "# !pip install Ipython --upgrade \n",
        "# !pip install pyyaml h5py \n",
        "import sys "
      ],
      "metadata": {
        "id": "dtPsEXjNCUt4"
      },
      "execution_count": null,
      "outputs": []
    },
    {
      "cell_type": "code",
      "source": [
        "%load_ext autoreload\n",
        "%autoreload 2\n",
        "sys.path.insert(1, \"C:\\\\Users\\\\Yousuf Baker\\\\Desktop\\\\ESS_proj\")"
      ],
      "metadata": {
        "id": "sP-pG6UoCjJ7"
      },
      "execution_count": null,
      "outputs": []
    },
    {
      "cell_type": "code",
      "source": [
        "import scipy.io\n",
        "import numpy as np\n",
        "import math\n",
        "import pandas as pd\n",
        "import matplotlib.pyplot as plt\n",
        "from datetime import date       \n",
        "import tensorflow as tf\n",
        "from datetime import date\n",
        "import time\n",
        "from ESS_utils_HA import *\n",
        "from sklearn.model_selection import train_test_split\n",
        "from keras.utils.vis_utils import plot_model\n",
        "import matplotlib.pyplot as plt\n",
        "import imageio"
      ],
      "metadata": {
        "id": "AssOqEfrClFW"
      },
      "execution_count": null,
      "outputs": []
    },
    {
      "cell_type": "code",
      "source": [
        "print(tf.__version__)"
      ],
      "metadata": {
        "id": "uJVjEj46Qebz",
        "outputId": "3d80dbd1-064f-4102-bdec-6a549d30b81e",
        "colab": {
          "base_uri": "https://localhost:8080/"
        }
      },
      "execution_count": null,
      "outputs": [
        {
          "output_type": "stream",
          "name": "stdout",
          "text": [
            "2.9.1\n"
          ]
        }
      ]
    },
    {
      "cell_type": "code",
      "source": [
        "#timing callback\n",
        "class TimeHistory(keras.callbacks.Callback):\n",
        "    def on_train_begin(self, logs={}):\n",
        "        self.times = []\n",
        "\n",
        "    def on_epoch_begin(self, batch, logs={}):\n",
        "        self.epoch_time_start = time.time()\n",
        "\n",
        "    def on_epoch_end(self, batch, logs={}):\n",
        "        self.times.append(time.time() - self.epoch_time_start)"
      ],
      "metadata": {
        "id": "tkLPLwGyYAVI"
      },
      "execution_count": null,
      "outputs": []
    },
    {
      "cell_type": "markdown",
      "source": [
        "# NY ZONES"
      ],
      "metadata": {
        "id": "qrJr-JPkCmx4"
      }
    },
    {
      "cell_type": "markdown",
      "source": [
        "## Prep Work"
      ],
      "metadata": {
        "id": "KLLhRgmbCq5v"
      }
    },
    {
      "cell_type": "code",
      "source": [
        "# DATA IMPORTS\n",
        "dir = \"C:\\\\Users\\\\Yousuf Baker\\\\Desktop\\\\ESS_proj\\\\NY_data\\\\\"\n",
        "RTP_NYC = np.array(scipy.io.loadmat(dir + \"RTP_NYC_2010_2019.mat\")['RTP'])\n",
        "DAP_NYC = np.array(scipy.io.loadmat(dir + \"DAP_NYC_2010_2019.mat\")['DAP'])\n",
        "RTP_LONGIL = np.array(scipy.io.loadmat(dir + \"RTP_LONGIL_2010_2019.mat\")['RTP'])\n",
        "DAP_LONGIL = np.array(scipy.io.loadmat(dir + \"DAP_LONGIL_2010_2019.mat\")['DAP'])\n",
        "RTP_NORTH = np.array(scipy.io.loadmat(dir + \"RTP_NORTH_2010_2019.mat\")['RTP'])\n",
        "DAP_NORTH = np.array(scipy.io.loadmat(dir + \"DAP_NORTH_2010_2019.mat\")['DAP'])\n",
        "RTP_WEST = np.array(scipy.io.loadmat(dir + \"RTP_WEST_2010_2019.mat\")['RTP'])\n",
        "DAP_WEST = np.array(scipy.io.loadmat(dir + \"DAP_WEST_2010_2019.mat\")['DAP'])\n",
        "  \n",
        "RTP = RTP_NYC\n",
        "DAP = DAP_NYC"
      ],
      "metadata": {
        "id": "_UnItaHkCqjA"
      },
      "execution_count": null,
      "outputs": []
    },
    {
      "cell_type": "markdown",
      "source": [
        "### SET PARAMS HERE"
      ],
      "metadata": {
        "id": "C0_IN6Njja20"
      }
    },
    {
      "cell_type": "code",
      "source": [
        "#Generating GT Value Functions\n",
        "'''\n",
        "Select dates: The data ends on 2019/12/31. We take the data range 2017/1/1 to 2018/12/31\n",
        "'''\n",
        "\n",
        "Ts = 1/12 # time step: 5min\n",
        "\n",
        "# Last day for New England\n",
        "lastDay = date.toordinal(date(2019, 12, 31)) + 366 - 1 # 737789\n",
        "\n",
        "\n",
        "start = date.toordinal(date(2017, 1, 1)) + 366 - 1 # 73669\n",
        "stop = date.toordinal(date(2018, 12, 31)) + 366 - 1 # 737424\n",
        "startTest = date.toordinal(date(2019, 1, 1)) + 366 - 1\n",
        "stopTest = date.toordinal(date(2019, 12, 31)) + 366 - 2\n",
        "ind1 = (len(RTP_WEST[0])-lastDay+startTest-1)\n",
        "ind2 = (len(RTP_WEST[0])-lastDay+stopTest+1)\n",
        "T = int(((stop-start+1)*24/Ts)) # T: 210240, MATLAB: 210240\n",
        "\n",
        "# tlambda: real time price over time period t\n",
        "tlambda = RTP[:, (len(RTP[0])-lastDay+start-2):(len(RTP[0])-lastDay+stop+1)] # (288, 731)\n",
        "tlambda = tlambda.flatten('F')\n",
        "# tlambda_DA: day ahead price over time period t\n",
        "tlambda_DA = DAP[:, (len(DAP[0])-lastDay+start-2):(len(DAP[0])-lastDay+stop+1)] # (288, 731)\n",
        "print(len(DAP[0])-lastDay+start-2)\n",
        "print(len(DAP[0])-lastDay+stop+1)\n",
        "print(tlambda_DA.shape)\n",
        "tlambda_DA = tlambda_DA.flatten('F') # (210528,)\n",
        "T_CNN = 104820 - 288\n",
        "\n",
        "'''\n",
        "Set parameters\n",
        "'''\n",
        "Pr = 1/2 # normalized power rating wrt energy rating (highest power input allowed to flow through particular equipment)\n",
        "P = Pr*Ts  # actual power rating taking time step size into account, 0.5*1/12 = 0.041666666666666664\n",
        "eta = .9  # efficiency\n",
        "c = 10  # marginal discharge cost - degradation\n",
        "ed = 0.001  # SoC sample granularity\n",
        "ef = .5  # final SoC target level, use 0 if none (ensure that electric vehicles are sufficiently charged at the end of the period)\n",
        "Ne = math.floor(1/ed)+1  # number of SOC samples, (1/0.001)+1=1001\n",
        "e0 = .5  # Beginning SoC level\n",
        "\n",
        "\n",
        "'''\n",
        "Downsample settings\n",
        "'''\n",
        "num_segment = 10"
      ],
      "metadata": {
        "id": "QG_lfBkSCyj_",
        "colab": {
          "base_uri": "https://localhost:8080/"
        },
        "outputId": "0d61cba4-b688-428c-c599-74935254b9cf"
      },
      "execution_count": null,
      "outputs": [
        {
          "output_type": "stream",
          "name": "stdout",
          "text": [
            "2556\n",
            "3288\n",
            "(288, 732)\n"
          ]
        }
      ]
    },
    {
      "cell_type": "code",
      "source": [
        "#for later evaluation \n",
        "rtp_NYC = RTP_NYC[:, ind1:ind2].flatten('F')\n",
        "rtp_LONGIL = RTP_LONGIL[:, ind1:ind2].flatten('F')\n",
        "rtp_NORTH = RTP_NORTH[:, ind1:ind2].flatten('F')\n",
        "rtp_WEST = RTP_WEST[:, ind1:ind2].flatten('F')"
      ],
      "metadata": {
        "id": "BrMvBe2nNnIV"
      },
      "execution_count": null,
      "outputs": []
    },
    {
      "cell_type": "code",
      "source": [
        "#counting negative price instances\n",
        "print(np.sum(rtp_NYC  < 0, axis=0))\n",
        "print(np.sum(rtp_LONGIL  < 0, axis=0))\n",
        "print(np.sum(rtp_NORTH < 0, axis=0))\n",
        "print(np.sum(rtp_WEST  < 0, axis=0))"
      ],
      "metadata": {
        "colab": {
          "base_uri": "https://localhost:8080/"
        },
        "id": "7qa16js_57xz",
        "outputId": "b99ae531-b82b-490a-b510-e406d1bacc9d"
      },
      "execution_count": null,
      "outputs": [
        {
          "output_type": "stream",
          "name": "stdout",
          "text": [
            "208\n",
            "190\n",
            "6334\n",
            "633\n"
          ]
        }
      ]
    },
    {
      "cell_type": "code",
      "source": [
        "#price volatility of zone\n",
        "print(np.std(rtp_NYC))\n",
        "print(np.std(rtp_LONGIL))\n",
        "print(np.std(rtp_NORTH))\n",
        "print(np.std(rtp_WEST))"
      ],
      "metadata": {
        "colab": {
          "base_uri": "https://localhost:8080/"
        },
        "id": "T1TyAdxo6jAz",
        "outputId": "0f8a02da-32f2-444c-f303-993842f030bb"
      },
      "execution_count": null,
      "outputs": [
        {
          "output_type": "stream",
          "name": "stdout",
          "text": [
            "28.825748992423915\n",
            "50.17065848005814\n",
            "40.25960910461724\n",
            "37.550728586236865\n"
          ]
        }
      ]
    },
    {
      "cell_type": "markdown",
      "source": [
        "### 5 Min Valuation"
      ],
      "metadata": {
        "id": "VD_PMqiXj3NF"
      }
    },
    {
      "cell_type": "code",
      "source": [
        "#GENERATING GT VALUE FUNCTION FOR TRAINING\n",
        "vAvg = generate_value_function(Ts, P, eta, c, ed, ef, Ne, T, num_segment, tlambda)[1]"
      ],
      "metadata": {
        "id": "IACa6oNmDFjg",
        "colab": {
          "base_uri": "https://localhost:8080/"
        },
        "outputId": "02271e5a-7f5e-4561-b15b-b745175dbac4"
      },
      "execution_count": null,
      "outputs": [
        {
          "output_type": "stream",
          "name": "stdout",
          "text": [
            "Time: 34.94457149505615\n"
          ]
        }
      ]
    },
    {
      "cell_type": "code",
      "source": [
        "T = rtp_NYC.shape[0] - 288 #number of time steps for gt testing value functions\n",
        "# print(T)"
      ],
      "metadata": {
        "id": "T4_-7iZtVlIQ"
      },
      "execution_count": null,
      "outputs": []
    },
    {
      "cell_type": "code",
      "source": [
        "#generating test value functions to calculate benchmark profits 5 min valuation\n",
        "vAvg_NYC = generate_value_function(Ts, P, eta, c, ed, ef, Ne, T, num_segment, rtp_NYC)[1]\n",
        "vAvg_LONGIL = generate_value_function(Ts, P, eta, c, ed, ef, Ne, T, num_segment, rtp_LONGIL)[1]\n",
        "vAvg_NORTH = generate_value_function(Ts, P, eta, c, ed, ef, Ne, T, num_segment, rtp_NORTH)[1]\n",
        "vAvg_WEST = generate_value_function(Ts, P, eta, c, ed, ef, Ne, T, num_segment, rtp_WEST)[1]"
      ],
      "metadata": {
        "id": "QevjB6zMDK5S",
        "colab": {
          "base_uri": "https://localhost:8080/"
        },
        "outputId": "88925ad8-a371-4ff9-9d5c-018007385650"
      },
      "execution_count": null,
      "outputs": [
        {
          "output_type": "stream",
          "name": "stdout",
          "text": [
            "Time: 13.315172910690308\n"
          ]
        }
      ]
    },
    {
      "cell_type": "markdown",
      "source": [
        "### Plotting Raw Profits"
      ],
      "metadata": {
        "id": "h5G_ku9GLBri"
      }
    },
    {
      "cell_type": "code",
      "source": [
        "#to show how profit scales with number of segments for different storage duration\n",
        "num = [1000, 500, 250, 100, 50, 25, 10, 5, 1]\n",
        "Pr = [1/2, 1/4, 1/12, 1/72]\n",
        "profits = np.zeros((int(len(num)*len(Pr)),))\n",
        "T = rtp_WEST.shape[0] - 288\n",
        "i = 0\n",
        "for p in Pr:\n",
        "  for n in num:\n",
        "    P = p*Ts\n",
        "    vAvg_WEST = generate_value_function(Ts, P, eta, c, ed, ef, Ne, T, n, rtp_WEST)[1]\n",
        "    print('\\n' + str(int(1/p)) + 'hr WEST OPTIMAL ' + str(n) + ' :')\n",
        "    profits[i] = evaluate_using_v(rtp_WEST[12:], vAvg_WEST[:, 12:], \n",
        "                    eta, c, T_CNN,\n",
        "                    Ts, p)\n",
        "    i += 1"
      ],
      "metadata": {
        "id": "JRXnHOSN6-QF"
      },
      "execution_count": null,
      "outputs": []
    },
    {
      "cell_type": "code",
      "source": [
        "#calculating profit ratios for above^\n",
        "prf = profits.reshape((int(len(Pr)), int(len(num))))\n",
        "prfmax = prf[:, 0]\n",
        "\n",
        "prfrat = np.zeros_like(prf)\n",
        "for i, curr in enumerate(prfmax):\n",
        "  prfrat[i, :] = prf[i, :]/curr\n",
        "print(prfrat)"
      ],
      "metadata": {
        "colab": {
          "base_uri": "https://localhost:8080/"
        },
        "id": "YDH8qtqhHvL8",
        "outputId": "aae14afd-30ad-4037-8253-5901e3fdeb67"
      },
      "execution_count": null,
      "outputs": [
        {
          "output_type": "stream",
          "name": "stdout",
          "text": [
            "[[1.         0.99962591 0.99717546 0.99044757 0.98353598 0.97413301\n",
            "  0.88729927 0.82134207 0.91706893]\n",
            " [1.         0.99792255 0.99360049 0.98563964 0.97769499 0.9305496\n",
            "  0.86022532 0.79197733 0.91930756]\n",
            " [1.         0.99259779 0.9782089  0.94981493 0.91888064 0.87400827\n",
            "  0.81016298 0.75106798 0.93015616]\n",
            " [1.         0.9629603  0.91474343 0.85274379 0.80188471 0.75014084\n",
            "  0.70887816 0.68163955 0.86630522]]\n"
          ]
        }
      ]
    },
    {
      "cell_type": "code",
      "source": [
        "print(num[:-1])"
      ],
      "metadata": {
        "colab": {
          "base_uri": "https://localhost:8080/"
        },
        "id": "ZnyUTkGLMI2T",
        "outputId": "4885af2f-13be-4cae-a29b-f91c82a59b92"
      },
      "execution_count": null,
      "outputs": [
        {
          "output_type": "stream",
          "name": "stdout",
          "text": [
            "[1000, 500, 250, 100, 50, 25, 10, 5]\n"
          ]
        }
      ]
    },
    {
      "cell_type": "code",
      "source": [
        "fig, axs = plt.subplots(2, 2)\n",
        "x = [1,2,3,4,5,6,7,8]\n",
        "axs[0, 0].plot(x, prfrat[0, :-1], marker='x', color='b', label='Multiseg')\n",
        "axs[0 ,0].axhline(y=prfrat[0,-1], color='r', linestyle='--', label='1Seg', alpha=0.8)\n",
        "axs[0, 0].set_title(str(int(Pr[0]**-1)) + ' hr')\n",
        "axs[0, 1].plot(x, prfrat[1, :-1],  marker='x', color='b', label='Multiseg')\n",
        "axs[0 ,1].axhline(y=prfrat[1,-1], color='r', linestyle='--', label='1Seg',alpha=0.8)\n",
        "axs[0, 1].set_title(str(int(Pr[1]**-1)) + ' hr')\n",
        "axs[1, 0].plot(x, prfrat[2, :-1],  marker='x', color='b', label='Multiseg')\n",
        "axs[1 ,0].axhline(y=prfrat[2,-1], color='r', linestyle='--', label='1Seg',alpha=0.8)\n",
        "axs[1, 0].set_title(str(int(Pr[2]**-1)) + ' hr')\n",
        "axs[1, 1].plot(x, prfrat[3, :-1],  marker='x', color='b', label='Multiseg')\n",
        "axs[1 ,1].axhline(y=prfrat[3,-1], color='r', linestyle='--', label='1Seg',alpha=0.8)\n",
        "axs[1, 1].set_title(str(int(Pr[3]**-1)) + ' hr')\n",
        "fig.suptitle('Optimal Profit Ratio (relative to 1000 segment) vs Num Segment for NYC')\n",
        "fig.set_size_inches(14, 10)\n",
        "for ax in axs.flat:\n",
        "    # ax.set_xscale('symlog')\n",
        "    ax.set_xticks(x, num[:-1], rotation=45)\n",
        "    ax.legend(['Multi Segment', '1 Segment'])\n",
        "    # ax.invert_xaxis()\n",
        "fig.supxlabel('Num Segment')\n",
        "fig.supylabel('Profit Ratio')\n",
        "fig.savefig('C:\\\\Users\\\\Yousuf Baker\\\\Desktop\\\\ESS_proj\\\\rawprof.png', dpi=100)\n",
        "\n",
        "# # Hide x labels and tick labels for top plots and y ticks for right plots.\n",
        "# for ax in axs.flat:\n",
        "#     ax.label_outer()"
      ],
      "metadata": {
        "colab": {
          "base_uri": "https://localhost:8080/",
          "height": 701
        },
        "id": "syIBd1H-IAfQ",
        "outputId": "bd92b805-b629-42f1-ce9a-fc135b9b4f35"
      },
      "execution_count": null,
      "outputs": [
        {
          "output_type": "display_data",
          "data": {
            "text/plain": [
              "<Figure size 1008x720 with 4 Axes>"
            ],
            "image/png": "[encoded data removed]"
          },
          "metadata": {
            "needs_background": "light"
          }
        }
      ]
    },
    {
      "cell_type": "markdown",
      "source": [
        "## Training"
      ],
      "metadata": {
        "id": "0df5XUcIDx-R"
      }
    },
    {
      "cell_type": "markdown",
      "source": [
        "### RTP + DAP"
      ],
      "metadata": {
        "id": "HGQrO8giD_RY"
      }
    },
    {
      "cell_type": "code",
      "source": [
        "#Training + Parameter Control\n",
        "num_DAP = 24\n",
        "num_RTP = 36\n",
        "#setting test dir info\n",
        "#for github users, set folder to the directory \n",
        "#where the zip file is extracted\n",
        "folder = 'C:\\\\Users\\\\Yousuf Baker\\\\Desktop\\\\ESS_proj\\\\'\n",
        "\n",
        "region = 'NY'\n",
        "test = 'CNN_LSTM_' + str(num_segment) +'_0.5_HA'\n",
        "net = 't1' #set string as t1 or vanilla based on which model you want\n",
        "\n",
        "\n",
        "# uncomment below to generate training set \n",
        "X, y = generate_train_CNN(T, DAP, tlambda, \n",
        "                          start, stop, lastDay, \n",
        "                          num_DAP, num_RTP, vAvg)\n",
        "X = np.asarray(X)\n",
        "y = np.asarray(y)\n",
        "x_train, x_val, y_train, y_val = train_test_split(X, y, \n",
        "                                                  test_size=0.05, shuffle=True)\n",
        "\n",
        "model = val_CNN_LSTM(output_size=num_segment, net=net)\n",
        "# model.summary()"
      ],
      "metadata": {
        "id": "IxnEz2GXD2nh",
        "colab": {
          "base_uri": "https://localhost:8080/"
        },
        "outputId": "eb1c12f0-f024-4169-85c7-e2c49179bef3"
      },
      "execution_count": null,
      "outputs": [
        {
          "output_type": "stream",
          "name": "stdout",
          "text": [
            "ytrain shape 3503.8\n",
            "datpoints shape 3503\n",
            "3503\n",
            "(60, 60, 1)\n",
            "(60, 10, 1)\n"
          ]
        }
      ]
    },
    {
      "cell_type": "code",
      "source": [
        "curr_run = net + '_best_model_epoch{epoch:02d}_loss{val_loss:.5f}.hdf5'\n",
        "checkpoint_path = folder + region + '_tests\\\\' + test + '\\\\' + curr_run\n",
        "\n",
        "#checkpoint path below w extreme was checking different data scarcity scenarios\n",
        "#ie when we have only 3d, 1w, 1m, 6m, 1yr of data \n",
        "# checkpoint_path = folder + region + '_tests\\\\' + test + '\\\\extreme\\\\' + curr_run\n",
        "\n",
        "#uncomment for early stopping callback\n",
        "# es_callback = tf.keras.callbacks.EarlyStopping(\n",
        "#     monitor='val_loss',\n",
        "#     min_delta=0.001,\n",
        "#     patience=10,\n",
        "#     verbose=0,\n",
        "#     mode='auto',\n",
        "#     baseline=None,\n",
        "#     restore_best_weights=False\n",
        "# )\n",
        "\n",
        "\n",
        "epochs = 100\n",
        "# cp_callback = tf.keras.callbacks.ModelCheckpoint(filepath=checkpoint_path,\n",
        "#                                                  monitor='val_loss', verbose=1, \n",
        "#                                                  save_best_only=True, mode='min')\n",
        "\n",
        "# history = model.fit(x_train, y_train, validation_data=(x_val, y_val), epochs=epochs,batch_size=32, \n",
        "#                     verbose=1, shuffle =True,\n",
        "#                     callbacks=[cp_callback])\n",
        "cb = TimeHistory()\n",
        "history = model.fit(x_train, y_train, validation_data=(x_val, y_val), epochs=epochs,batch_size=32, \n",
        "                    verbose=1, shuffle =True,\n",
        "                    callbacks=[ cb])"
      ],
      "metadata": {
        "id": "aV75o6X_FxVG",
        "colab": {
          "base_uri": "https://localhost:8080/"
        },
        "outputId": "63bc8e60-7eb4-46de-e74b-66e6e8350c1b"
      },
      "execution_count": null,
      "outputs": [
        {
          "output_type": "stream",
          "name": "stdout",
          "text": [
            "Epoch 1/100\n",
            "104/104 [==============================] - 14s 59ms/step - loss: 1266.7410 - mse: 1266.7408 - mae: 20.9368 - val_loss: 3242.4321 - val_mse: 3242.4319 - val_mae: 17.2154\n",
            "Epoch 2/100\n",
            "104/104 [==============================] - 4s 39ms/step - loss: 887.7477 - mse: 887.7477 - mae: 13.6124 - val_loss: 3081.9126 - val_mse: 3081.9128 - val_mae: 16.0803\n",
            "Epoch 3/100\n",
            "104/104 [==============================] - 4s 37ms/step - loss: 826.0004 - mse: 826.0009 - mae: 12.8397 - val_loss: 3004.6953 - val_mse: 3004.6956 - val_mae: 14.3128\n",
            "Epoch 4/100\n",
            "104/104 [==============================] - 4s 38ms/step - loss: 747.7903 - mse: 747.7903 - mae: 11.3623 - val_loss: 2842.5764 - val_mse: 2842.5764 - val_mae: 11.8980\n",
            "Epoch 5/100\n",
            "104/104 [==============================] - 4s 38ms/step - loss: 653.7182 - mse: 653.7182 - mae: 9.5302 - val_loss: 2750.4858 - val_mse: 2750.4858 - val_mae: 11.3363\n",
            "Epoch 6/100\n",
            "104/104 [==============================] - 4s 37ms/step - loss: 603.7266 - mse: 603.7266 - mae: 9.3073 - val_loss: 2671.8357 - val_mse: 2671.8357 - val_mae: 10.8470\n",
            "Epoch 7/100\n",
            "104/104 [==============================] - 4s 37ms/step - loss: 553.4180 - mse: 553.4180 - mae: 8.8192 - val_loss: 2585.5679 - val_mse: 2585.5681 - val_mae: 9.9552\n",
            "Epoch 8/100\n",
            "104/104 [==============================] - 4s 39ms/step - loss: 520.7361 - mse: 520.7361 - mae: 8.8272 - val_loss: 2544.9695 - val_mse: 2544.9695 - val_mae: 11.5659\n",
            "Epoch 9/100\n",
            "104/104 [==============================] - 4s 36ms/step - loss: 489.2673 - mse: 489.2673 - mae: 8.6279 - val_loss: 2479.9678 - val_mse: 2479.9678 - val_mae: 10.0098\n",
            "Epoch 10/100\n",
            "104/104 [==============================] - 4s 36ms/step - loss: 469.3257 - mse: 469.3257 - mae: 8.4291 - val_loss: 2439.1904 - val_mse: 2439.1902 - val_mae: 9.9094\n",
            "Epoch 11/100\n",
            "104/104 [==============================] - 4s 37ms/step - loss: 445.0640 - mse: 445.0640 - mae: 8.3352 - val_loss: 2372.7671 - val_mse: 2372.7671 - val_mae: 9.3108\n",
            "Epoch 12/100\n",
            "104/104 [==============================] - 4s 36ms/step - loss: 430.6301 - mse: 430.6304 - mae: 8.3562 - val_loss: 2361.7126 - val_mse: 2361.7124 - val_mae: 9.5961\n",
            "Epoch 13/100\n",
            "104/104 [==============================] - 4s 36ms/step - loss: 408.4101 - mse: 408.4101 - mae: 8.0797 - val_loss: 2334.8274 - val_mse: 2334.8274 - val_mae: 10.0755\n",
            "Epoch 14/100\n",
            "104/104 [==============================] - 4s 36ms/step - loss: 395.8880 - mse: 395.8881 - mae: 8.0521 - val_loss: 2340.5601 - val_mse: 2340.5598 - val_mae: 11.1114\n",
            "Epoch 15/100\n",
            "104/104 [==============================] - 4s 36ms/step - loss: 380.7583 - mse: 380.7584 - mae: 8.0389 - val_loss: 2256.6367 - val_mse: 2256.6367 - val_mae: 9.3628\n",
            "Epoch 16/100\n",
            "104/104 [==============================] - 4s 37ms/step - loss: 358.1697 - mse: 358.1697 - mae: 7.6063 - val_loss: 2221.8945 - val_mse: 2221.8948 - val_mae: 9.3185\n",
            "Epoch 17/100\n",
            "104/104 [==============================] - 4s 37ms/step - loss: 351.3122 - mse: 351.3122 - mae: 7.6338 - val_loss: 2232.2244 - val_mse: 2232.2246 - val_mae: 10.1944\n",
            "Epoch 18/100\n",
            "104/104 [==============================] - 4s 37ms/step - loss: 353.4910 - mse: 353.4910 - mae: 7.7550 - val_loss: 2197.7412 - val_mse: 2197.7410 - val_mae: 9.0353\n",
            "Epoch 19/100\n",
            "104/104 [==============================] - 4s 37ms/step - loss: 328.6475 - mse: 328.6475 - mae: 7.3539 - val_loss: 2173.7346 - val_mse: 2173.7341 - val_mae: 9.3138\n",
            "Epoch 20/100\n",
            "104/104 [==============================] - 4s 37ms/step - loss: 326.0695 - mse: 326.0695 - mae: 7.4638 - val_loss: 2158.0122 - val_mse: 2158.0122 - val_mae: 9.0011\n",
            "Epoch 21/100\n",
            "104/104 [==============================] - 4s 37ms/step - loss: 324.0601 - mse: 324.0602 - mae: 7.3558 - val_loss: 2137.4922 - val_mse: 2137.4922 - val_mae: 9.8973\n",
            "Epoch 22/100\n",
            "104/104 [==============================] - 4s 37ms/step - loss: 314.6666 - mse: 314.6667 - mae: 7.1276 - val_loss: 2108.4871 - val_mse: 2108.4871 - val_mae: 9.2104\n",
            "Epoch 23/100\n",
            "104/104 [==============================] - 4s 37ms/step - loss: 300.2871 - mse: 300.2871 - mae: 7.0867 - val_loss: 2118.6611 - val_mse: 2118.6614 - val_mae: 11.6605\n",
            "Epoch 24/100\n",
            "104/104 [==============================] - 4s 37ms/step - loss: 305.5078 - mse: 305.5077 - mae: 7.1788 - val_loss: 2078.1631 - val_mse: 2078.1631 - val_mae: 9.1568\n",
            "Epoch 25/100\n",
            "104/104 [==============================] - 4s 37ms/step - loss: 290.7490 - mse: 290.7490 - mae: 7.0644 - val_loss: 2051.9768 - val_mse: 2051.9768 - val_mae: 9.1384\n",
            "Epoch 26/100\n",
            "104/104 [==============================] - 4s 37ms/step - loss: 282.0199 - mse: 282.0199 - mae: 6.7287 - val_loss: 2034.9270 - val_mse: 2034.9271 - val_mae: 8.9969\n",
            "Epoch 27/100\n",
            "104/104 [==============================] - 4s 37ms/step - loss: 286.2953 - mse: 286.2953 - mae: 6.8620 - val_loss: 2015.7028 - val_mse: 2015.7030 - val_mae: 8.9736\n",
            "Epoch 28/100\n",
            "104/104 [==============================] - 4s 37ms/step - loss: 281.1278 - mse: 281.1278 - mae: 6.8756 - val_loss: 2010.8179 - val_mse: 2010.8176 - val_mae: 8.8869\n",
            "Epoch 29/100\n",
            "104/104 [==============================] - 4s 37ms/step - loss: 268.5083 - mse: 268.5082 - mae: 6.5855 - val_loss: 2004.1637 - val_mse: 2004.1637 - val_mae: 9.3459\n",
            "Epoch 30/100\n",
            "104/104 [==============================] - 4s 37ms/step - loss: 274.8777 - mse: 274.8777 - mae: 6.6554 - val_loss: 1990.6997 - val_mse: 1990.6998 - val_mae: 8.8939\n",
            "Epoch 31/100\n",
            "104/104 [==============================] - 4s 37ms/step - loss: 270.5858 - mse: 270.5858 - mae: 6.6138 - val_loss: 2006.7720 - val_mse: 2006.7720 - val_mae: 8.8729\n",
            "Epoch 32/100\n",
            "104/104 [==============================] - 4s 37ms/step - loss: 259.1581 - mse: 259.1581 - mae: 6.5158 - val_loss: 1946.2582 - val_mse: 1946.2583 - val_mae: 8.7507\n",
            "Epoch 33/100\n",
            "104/104 [==============================] - 4s 37ms/step - loss: 258.6734 - mse: 258.6733 - mae: 6.3837 - val_loss: 1980.0653 - val_mse: 1980.0654 - val_mae: 8.7812\n",
            "Epoch 34/100\n",
            "104/104 [==============================] - 4s 37ms/step - loss: 262.1793 - mse: 262.1793 - mae: 6.6027 - val_loss: 1932.0636 - val_mse: 1932.0636 - val_mae: 9.0284\n",
            "Epoch 35/100\n",
            "104/104 [==============================] - 4s 37ms/step - loss: 250.0381 - mse: 250.0380 - mae: 6.3742 - val_loss: 1929.4172 - val_mse: 1929.4171 - val_mae: 8.8629\n",
            "Epoch 36/100\n",
            "104/104 [==============================] - 4s 37ms/step - loss: 269.3232 - mse: 269.3233 - mae: 6.6991 - val_loss: 1932.9946 - val_mse: 1932.9948 - val_mae: 8.6747\n",
            "Epoch 37/100\n",
            "104/104 [==============================] - 4s 37ms/step - loss: 249.1503 - mse: 249.1503 - mae: 6.2878 - val_loss: 1900.9789 - val_mse: 1900.9788 - val_mae: 8.5545\n",
            "Epoch 38/100\n",
            "104/104 [==============================] - 4s 37ms/step - loss: 246.8265 - mse: 246.8265 - mae: 6.2296 - val_loss: 1890.5126 - val_mse: 1890.5125 - val_mae: 8.6689\n",
            "Epoch 39/100\n",
            "104/104 [==============================] - 4s 37ms/step - loss: 270.6623 - mse: 270.6622 - mae: 6.9353 - val_loss: 1887.7257 - val_mse: 1887.7257 - val_mae: 8.7294\n",
            "Epoch 40/100\n",
            "104/104 [==============================] - 4s 38ms/step - loss: 252.5435 - mse: 252.5435 - mae: 6.4029 - val_loss: 1893.7827 - val_mse: 1893.7826 - val_mae: 8.7355\n",
            "Epoch 41/100\n",
            "104/104 [==============================] - 4s 36ms/step - loss: 243.4271 - mse: 243.4272 - mae: 6.2483 - val_loss: 1871.7173 - val_mse: 1871.7173 - val_mae: 8.5368\n",
            "Epoch 42/100\n",
            "104/104 [==============================] - 4s 38ms/step - loss: 246.9892 - mse: 246.9892 - mae: 6.3514 - val_loss: 1938.1118 - val_mse: 1938.1118 - val_mae: 9.4289\n",
            "Epoch 43/100\n",
            "104/104 [==============================] - 4s 38ms/step - loss: 238.9135 - mse: 238.9135 - mae: 6.2637 - val_loss: 1844.4487 - val_mse: 1844.4487 - val_mae: 8.5603\n",
            "Epoch 44/100\n",
            "104/104 [==============================] - 4s 37ms/step - loss: 239.6463 - mse: 239.6463 - mae: 6.3360 - val_loss: 1847.1913 - val_mse: 1847.1910 - val_mae: 8.9385\n",
            "Epoch 45/100\n",
            "104/104 [==============================] - 4s 36ms/step - loss: 229.1650 - mse: 229.1650 - mae: 6.0469 - val_loss: 1845.9269 - val_mse: 1845.9270 - val_mae: 8.2600\n",
            "Epoch 46/100\n",
            "104/104 [==============================] - 4s 36ms/step - loss: 228.5034 - mse: 228.5034 - mae: 6.0214 - val_loss: 1845.5742 - val_mse: 1845.5740 - val_mae: 8.8832\n",
            "Epoch 47/100\n",
            "104/104 [==============================] - 4s 39ms/step - loss: 226.7767 - mse: 226.7767 - mae: 6.0790 - val_loss: 1829.5133 - val_mse: 1829.5133 - val_mae: 8.1357\n",
            "Epoch 48/100\n",
            "104/104 [==============================] - 4s 38ms/step - loss: 224.6570 - mse: 224.6570 - mae: 5.9246 - val_loss: 1814.6829 - val_mse: 1814.6830 - val_mae: 8.4323\n",
            "Epoch 49/100\n",
            "104/104 [==============================] - 4s 36ms/step - loss: 221.3558 - mse: 221.3557 - mae: 5.9488 - val_loss: 1838.4429 - val_mse: 1838.4426 - val_mae: 8.1698\n",
            "Epoch 50/100\n",
            "104/104 [==============================] - 4s 36ms/step - loss: 231.1336 - mse: 231.1336 - mae: 6.0380 - val_loss: 1805.8722 - val_mse: 1805.8721 - val_mae: 8.6845\n",
            "Epoch 51/100\n",
            "104/104 [==============================] - 4s 38ms/step - loss: 223.6520 - mse: 223.6520 - mae: 6.0208 - val_loss: 1795.7617 - val_mse: 1795.7615 - val_mae: 8.6499\n",
            "Epoch 52/100\n",
            "104/104 [==============================] - 4s 36ms/step - loss: 222.1430 - mse: 222.1429 - mae: 5.9662 - val_loss: 1861.9711 - val_mse: 1861.9711 - val_mae: 8.6659\n",
            "Epoch 53/100\n",
            "104/104 [==============================] - 4s 36ms/step - loss: 224.3630 - mse: 224.3630 - mae: 5.9797 - val_loss: 1794.5428 - val_mse: 1794.5427 - val_mae: 8.3577\n",
            "Epoch 54/100\n",
            "104/104 [==============================] - 4s 36ms/step - loss: 218.4910 - mse: 218.4911 - mae: 5.8525 - val_loss: 1772.1683 - val_mse: 1772.1685 - val_mae: 8.4504\n",
            "Epoch 55/100\n",
            "104/104 [==============================] - 4s 36ms/step - loss: 212.2047 - mse: 212.2047 - mae: 5.7473 - val_loss: 1770.0168 - val_mse: 1770.0168 - val_mae: 8.5590\n",
            "Epoch 56/100\n",
            "104/104 [==============================] - 4s 36ms/step - loss: 218.8531 - mse: 218.8531 - mae: 5.9264 - val_loss: 1772.7970 - val_mse: 1772.7970 - val_mae: 9.0494\n",
            "Epoch 57/100\n",
            "104/104 [==============================] - 4s 36ms/step - loss: 210.8126 - mse: 210.8125 - mae: 5.8042 - val_loss: 1764.0403 - val_mse: 1764.0402 - val_mae: 8.0453\n",
            "Epoch 58/100\n",
            "104/104 [==============================] - 4s 36ms/step - loss: 210.5319 - mse: 210.5319 - mae: 5.7192 - val_loss: 1763.3011 - val_mse: 1763.3013 - val_mae: 8.0447\n",
            "Epoch 59/100\n",
            "104/104 [==============================] - 4s 36ms/step - loss: 204.6697 - mse: 204.6697 - mae: 5.6534 - val_loss: 1767.0688 - val_mse: 1767.0688 - val_mae: 7.9515\n",
            "Epoch 60/100\n",
            "104/104 [==============================] - 4s 36ms/step - loss: 212.5603 - mse: 212.5603 - mae: 5.7636 - val_loss: 1734.8696 - val_mse: 1734.8699 - val_mae: 8.5340\n",
            "Epoch 61/100\n",
            "104/104 [==============================] - 4s 36ms/step - loss: 216.7707 - mse: 216.7706 - mae: 5.8671 - val_loss: 1739.1425 - val_mse: 1739.1425 - val_mae: 8.9557\n",
            "Epoch 62/100\n",
            "104/104 [==============================] - 4s 36ms/step - loss: 213.4463 - mse: 213.4463 - mae: 5.8237 - val_loss: 1738.9519 - val_mse: 1738.9520 - val_mae: 8.1562\n",
            "Epoch 63/100\n",
            "104/104 [==============================] - 4s 36ms/step - loss: 201.3403 - mse: 201.3403 - mae: 5.4877 - val_loss: 1718.2833 - val_mse: 1718.2833 - val_mae: 8.3947\n",
            "Epoch 64/100\n",
            "104/104 [==============================] - 4s 36ms/step - loss: 204.9908 - mse: 204.9909 - mae: 5.6263 - val_loss: 1743.6101 - val_mse: 1743.6101 - val_mae: 8.2897\n",
            "Epoch 65/100\n",
            "104/104 [==============================] - 4s 36ms/step - loss: 201.2285 - mse: 201.2285 - mae: 5.5917 - val_loss: 1748.8833 - val_mse: 1748.8837 - val_mae: 8.1711\n",
            "Epoch 66/100\n",
            "104/104 [==============================] - 4s 36ms/step - loss: 206.6020 - mse: 206.6020 - mae: 5.6913 - val_loss: 1782.2582 - val_mse: 1782.2581 - val_mae: 7.9944\n",
            "Epoch 67/100\n",
            "104/104 [==============================] - 4s 36ms/step - loss: 219.1528 - mse: 219.1527 - mae: 5.9286 - val_loss: 1768.9727 - val_mse: 1768.9729 - val_mae: 7.9243\n",
            "Epoch 68/100\n",
            "104/104 [==============================] - 4s 36ms/step - loss: 204.7380 - mse: 204.7380 - mae: 5.6734 - val_loss: 1716.2792 - val_mse: 1716.2791 - val_mae: 8.4719\n",
            "Epoch 69/100\n",
            "104/104 [==============================] - 4s 36ms/step - loss: 205.4787 - mse: 205.4787 - mae: 5.7955 - val_loss: 1700.2974 - val_mse: 1700.2974 - val_mae: 8.4686\n",
            "Epoch 70/100\n",
            "104/104 [==============================] - 4s 36ms/step - loss: 200.8873 - mse: 200.8873 - mae: 5.5766 - val_loss: 1701.2859 - val_mse: 1701.2859 - val_mae: 8.2974\n",
            "Epoch 71/100\n",
            "104/104 [==============================] - 4s 36ms/step - loss: 206.8494 - mse: 206.8495 - mae: 5.8947 - val_loss: 1738.0308 - val_mse: 1738.0308 - val_mae: 8.8107\n",
            "Epoch 72/100\n",
            "104/104 [==============================] - 4s 36ms/step - loss: 201.0182 - mse: 201.0182 - mae: 5.5391 - val_loss: 1685.0721 - val_mse: 1685.0721 - val_mae: 8.2205\n",
            "Epoch 73/100\n",
            "104/104 [==============================] - 4s 36ms/step - loss: 201.3823 - mse: 201.3823 - mae: 5.5753 - val_loss: 1725.8673 - val_mse: 1725.8671 - val_mae: 8.3405\n",
            "Epoch 74/100\n",
            "104/104 [==============================] - 4s 36ms/step - loss: 193.5671 - mse: 193.5670 - mae: 5.4940 - val_loss: 1687.7211 - val_mse: 1687.7213 - val_mae: 7.9641\n",
            "Epoch 75/100\n",
            "104/104 [==============================] - 4s 36ms/step - loss: 231.3268 - mse: 231.3269 - mae: 6.2718 - val_loss: 1711.9100 - val_mse: 1711.9097 - val_mae: 8.9948\n",
            "Epoch 76/100\n",
            "104/104 [==============================] - 4s 36ms/step - loss: 203.7073 - mse: 203.7073 - mae: 5.7822 - val_loss: 1752.8331 - val_mse: 1752.8331 - val_mae: 8.1940\n",
            "Epoch 77/100\n",
            "104/104 [==============================] - 4s 36ms/step - loss: 206.5793 - mse: 206.5793 - mae: 5.6602 - val_loss: 1709.3796 - val_mse: 1709.3795 - val_mae: 8.2362\n",
            "Epoch 78/100\n",
            "104/104 [==============================] - 4s 36ms/step - loss: 201.5811 - mse: 201.5811 - mae: 5.6203 - val_loss: 1715.3203 - val_mse: 1715.3203 - val_mae: 7.9644\n",
            "Epoch 79/100\n",
            "104/104 [==============================] - 4s 36ms/step - loss: 191.2104 - mse: 191.2104 - mae: 5.3766 - val_loss: 1693.4230 - val_mse: 1693.4230 - val_mae: 8.0006\n",
            "Epoch 80/100\n",
            "104/104 [==============================] - 4s 36ms/step - loss: 193.1222 - mse: 193.1222 - mae: 5.4285 - val_loss: 1661.8828 - val_mse: 1661.8826 - val_mae: 8.2677\n",
            "Epoch 81/100\n",
            "104/104 [==============================] - 4s 36ms/step - loss: 190.2975 - mse: 190.2975 - mae: 5.3595 - val_loss: 1676.8745 - val_mse: 1676.8744 - val_mae: 8.0553\n",
            "Epoch 82/100\n",
            "104/104 [==============================] - 4s 36ms/step - loss: 184.3025 - mse: 184.3026 - mae: 5.3812 - val_loss: 1663.5597 - val_mse: 1663.5596 - val_mae: 8.1623\n",
            "Epoch 83/100\n",
            "104/104 [==============================] - 4s 36ms/step - loss: 192.3626 - mse: 192.3625 - mae: 5.4150 - val_loss: 1657.4883 - val_mse: 1657.4886 - val_mae: 8.1771\n",
            "Epoch 84/100\n",
            "104/104 [==============================] - 4s 37ms/step - loss: 195.0554 - mse: 195.0553 - mae: 5.3669 - val_loss: 1672.7222 - val_mse: 1672.7222 - val_mae: 7.8534\n",
            "Epoch 85/100\n",
            "104/104 [==============================] - 4s 36ms/step - loss: 188.4104 - mse: 188.4103 - mae: 5.2876 - val_loss: 1665.0112 - val_mse: 1665.0111 - val_mae: 7.9862\n",
            "Epoch 86/100\n",
            "104/104 [==============================] - 4s 36ms/step - loss: 183.5534 - mse: 183.5534 - mae: 5.3448 - val_loss: 1682.8500 - val_mse: 1682.8499 - val_mae: 7.9183\n",
            "Epoch 87/100\n",
            "104/104 [==============================] - 4s 36ms/step - loss: 185.1619 - mse: 185.1620 - mae: 5.2502 - val_loss: 1695.6976 - val_mse: 1695.6974 - val_mae: 7.8812\n",
            "Epoch 88/100\n",
            "104/104 [==============================] - 4s 36ms/step - loss: 181.3844 - mse: 181.3844 - mae: 5.2108 - val_loss: 1633.0488 - val_mse: 1633.0488 - val_mae: 8.3139\n",
            "Epoch 89/100\n",
            "104/104 [==============================] - 4s 36ms/step - loss: 197.4984 - mse: 197.4984 - mae: 5.7022 - val_loss: 1678.0923 - val_mse: 1678.0922 - val_mae: 7.7669\n",
            "Epoch 90/100\n",
            "104/104 [==============================] - 4s 36ms/step - loss: 187.9949 - mse: 187.9949 - mae: 5.2234 - val_loss: 1638.0714 - val_mse: 1638.0714 - val_mae: 8.1123\n",
            "Epoch 91/100\n",
            "104/104 [==============================] - 4s 36ms/step - loss: 183.3366 - mse: 183.3366 - mae: 5.2340 - val_loss: 1676.7040 - val_mse: 1676.7040 - val_mae: 7.5927\n",
            "Epoch 92/100\n",
            "104/104 [==============================] - 4s 36ms/step - loss: 177.2731 - mse: 177.2731 - mae: 5.0864 - val_loss: 1624.1056 - val_mse: 1624.1056 - val_mae: 7.7657\n",
            "Epoch 93/100\n",
            "104/104 [==============================] - 4s 36ms/step - loss: 179.7496 - mse: 179.7496 - mae: 5.2560 - val_loss: 1631.7543 - val_mse: 1631.7543 - val_mae: 8.1285\n",
            "Epoch 94/100\n",
            "104/104 [==============================] - 4s 36ms/step - loss: 180.8300 - mse: 180.8299 - mae: 5.2320 - val_loss: 1715.3579 - val_mse: 1715.3579 - val_mae: 8.3303\n",
            "Epoch 95/100\n",
            "104/104 [==============================] - 4s 36ms/step - loss: 185.4832 - mse: 185.4833 - mae: 5.3327 - val_loss: 1704.7582 - val_mse: 1704.7583 - val_mae: 7.7847\n",
            "Epoch 96/100\n",
            "104/104 [==============================] - 4s 36ms/step - loss: 182.5774 - mse: 182.5774 - mae: 5.2280 - val_loss: 1701.2399 - val_mse: 1701.2397 - val_mae: 7.6608\n",
            "Epoch 97/100\n",
            "104/104 [==============================] - 4s 36ms/step - loss: 191.7196 - mse: 191.7196 - mae: 5.5405 - val_loss: 1671.4594 - val_mse: 1671.4596 - val_mae: 8.4223\n",
            "Epoch 98/100\n",
            "104/104 [==============================] - 4s 36ms/step - loss: 185.6791 - mse: 185.6792 - mae: 5.2844 - val_loss: 1665.2297 - val_mse: 1665.2297 - val_mae: 8.1004\n",
            "Epoch 99/100\n",
            "104/104 [==============================] - 4s 36ms/step - loss: 185.6308 - mse: 185.6308 - mae: 5.2606 - val_loss: 1638.7831 - val_mse: 1638.7831 - val_mae: 8.1973\n",
            "Epoch 100/100\n",
            "104/104 [==============================] - 4s 37ms/step - loss: 179.4017 - mse: 179.4017 - mae: 5.2015 - val_loss: 1636.6824 - val_mse: 1636.6821 - val_mae: 7.9046\n"
          ]
        }
      ]
    },
    {
      "cell_type": "code",
      "source": [
        "times = cb.times\n",
        "print(sum(times[:]))"
      ],
      "metadata": {
        "colab": {
          "base_uri": "https://localhost:8080/"
        },
        "id": "QWFlcABtalat",
        "outputId": "f4b8b184-ce89-45a4-e936-42be4bbad266"
      },
      "execution_count": null,
      "outputs": [
        {
          "output_type": "stream",
          "name": "stdout",
          "text": [
            "390.7284924983978\n"
          ]
        }
      ]
    },
    {
      "cell_type": "code",
      "source": [
        "#training plots\n",
        "plt.plot(history.history['loss'])\n",
        "plt.plot(history.history['val_loss'])\n",
        "plt.legend(['training', 'validation'])"
      ],
      "metadata": {
        "id": "-VZ4zlCRGnlV"
      },
      "execution_count": null,
      "outputs": []
    },
    {
      "cell_type": "markdown",
      "source": [
        "#### visualizing training\n"
      ],
      "metadata": {
        "id": "q-7kdmTOxwxr"
      }
    },
    {
      "cell_type": "code",
      "source": [
        "plt.close('all')"
      ],
      "metadata": {
        "id": "iUxZcM5q_vrk"
      },
      "execution_count": null,
      "outputs": []
    },
    {
      "cell_type": "code",
      "source": [
        "#code below for generating gif of training\n",
        "plt.close('all')\n",
        "model = val_CNN_LSTM(output_size=num_segment, net='t1')\n",
        "optprof = 24668\n",
        "num_RTP =36\n",
        "num_DAP = 24\n",
        "giflist = []\n",
        "#sets time step that you want to generate output for\n",
        "t = 24 #stable price time\n",
        "#t=128 #price spike\n",
        "region = 'NY'\n",
        "for n in np.arange(1, 46):\n",
        "  dir = folder + region + '_tests\\\\vis\\\\' + str(n) + '.hdf5'\n",
        "  print(dir)\n",
        "  model.load_weights(dir)\n",
        "  pred = predictor(model, DAP_WEST, RTP_WEST, \n",
        "                                      startTest, stopTest, lastDay, \n",
        "                                      num_DAP, num_RTP, Pr=Pr)\n",
        "  #uncomment below for saving vector of data for plotting in matlab\n",
        "  # scipy.io.savemat(folder + region + '_tests\\\\vis\\\\mats\\\\pred_' + str(n) + 't' + str(t) + '.mat', {'pred'+str(n)+'_'+str(t):pred[:, t-12]})\n",
        "  # scipy.io.savemat(folder + region + '_tests\\\\vis\\\\mats\\\\true_' + str(n) + 't' + str(t) + '.mat', {'true'+str(n)+'_'+str(t):vAvg_WEST[:, t]})\n",
        "  #below code generates plot and saves to make gif\n",
        "  plt.figure()\n",
        "  # plt.text(0,10,str(round(rat,2)), fontsize=12, bbox=dict(facecolor='blue', alpha=0.5))\n",
        "  plt.ylim(15)\n",
        "  plt.plot(np.arange(0,1,0.1), vAvg_WEST[:, t])\n",
        "  plt.plot(np.arange(0,1,0.1), pred[:, t-12])\n",
        "  plt.xlabel('SoC')\n",
        "  plt.ylabel('dV/dt')\n",
        "  plt.title('Value Function for West 2019, t='+str(t)+ ' , checkpoint ' + str(n))\n",
        "  plt.legend(['Ground Truth', 'Prediction'])\n",
        "  plt.savefig(folder + region + '_tests\\\\vis\\\\' + str(n) + '_' + str(t) + '_2.png')\n",
        "  plt.close()\n",
        "\n",
        "  giflist.append(folder + region + '_tests\\\\vis\\\\' + str(n) + '_' + str(t) + '_2.png')"
      ],
      "metadata": {
        "id": "XdPD8tw54OuK"
      },
      "execution_count": null,
      "outputs": []
    },
    {
      "cell_type": "code",
      "source": [
        "print(np.arange(0,1,0.1))"
      ],
      "metadata": {
        "colab": {
          "base_uri": "https://localhost:8080/"
        },
        "id": "uw_-5FBayB6e",
        "outputId": "d48ea952-e5ae-4635-b4cd-358570415c38"
      },
      "execution_count": null,
      "outputs": [
        {
          "output_type": "stream",
          "name": "stdout",
          "text": [
            "[0.  0.1 0.2 0.3 0.4 0.5 0.6 0.7 0.8 0.9]\n"
          ]
        }
      ]
    },
    {
      "cell_type": "code",
      "source": [
        "#makes and saves gif\n",
        "with imageio.get_writer(folder + region + '_tests\\\\vis\\\\t_' + str(t) + '_2.gif', mode='I') as writer:\n",
        "    for filename in giflist:\n",
        "        image = imageio.imread(filename)\n",
        "        writer.append_data(image)"
      ],
      "metadata": {
        "colab": {
          "base_uri": "https://localhost:8080/"
        },
        "id": "GgAR7v8P58vM",
        "outputId": "fe6a87db-bbaa-4e5c-fdc9-54dd400dc7ce"
      },
      "execution_count": null,
      "outputs": [
        {
          "output_type": "stream",
          "name": "stderr",
          "text": [
            "C:\\Users\\Yousuf Baker\\AppData\\Local\\Temp\\ipykernel_31844\\2134491341.py:3: DeprecationWarning: Starting with ImageIO v3 the behavior of this function will switch to that of iio.v3.imread. To keep the current behavior (and make this warning disappear) use `import imageio.v2 as imageio` or call `imageio.v2.imread` directly.\n",
            "  image = imageio.imread(filename)\n"
          ]
        }
      ]
    },
    {
      "cell_type": "markdown",
      "source": [
        "### RTP ONLY (for QNSLND Transfer Learning)\n"
      ],
      "metadata": {
        "id": "ZWqmiN4UG9Jb"
      }
    },
    {
      "cell_type": "code",
      "source": [
        "#Training + Parameter Control\n",
        "\n",
        "num_RTP=60\n",
        "X, y = generate_train_CNN_RTP(T, tlambda, \n",
        "                              start, stop, lastDay,\n",
        "                              num_RTP, vAvg)\n",
        "X = np.asarray(X)\n",
        "y = np.asarray(y)\n",
        "\n",
        "x_train, x_val, y_train, y_val = train_test_split(X, y, test_size=0.05, \n",
        "                                                  shuffle=True)\n",
        "model = val_CNN_LSTM(output_size=num_segment, t1=True)\n",
        "model.summary()\n",
        "\n",
        "#setting test dir info\n",
        "folder = 'C:\\\\Users\\\\Yousuf Baker\\\\Desktop\\\\ESS_proj\\\\'\n",
        "region = 'NY'\n",
        "test = 'CNN_LSTM_' + str(num_segment) +'_12hr_HA_RTP'"
      ],
      "metadata": {
        "id": "xB3elYUyH9JR"
      },
      "execution_count": null,
      "outputs": []
    },
    {
      "cell_type": "code",
      "source": [
        "#loading weights of best previously trained model\n",
        "model_name = 't1_best_model_epoch70_loss72.03975.hdf5'\n",
        "dir = folder + zone + '_tests\\\\' + test + '\\\\' + model_name\n",
        "model.load_weights(dir)"
      ],
      "metadata": {
        "id": "HmwGYECOIcHP"
      },
      "execution_count": null,
      "outputs": []
    },
    {
      "cell_type": "code",
      "source": [
        "curr_run = 't1_best_model_epoch{epoch:02d}_loss{val_loss:.5f}.hdf5'\n",
        "checkpoint_path = folder + region + '_tests\\\\' + test + '\\\\' + curr_run\n",
        "\n",
        "#uncomment for early stopping callback\n",
        "# es_callback = tf.keras.callbacks.EarlyStopping(\n",
        "#     monitor='val_loss',\n",
        "#     min_delta=0.001,\n",
        "#     patience=10,\n",
        "#     verbose=0,\n",
        "#     mode='auto',\n",
        "#     baseline=None,\n",
        "#     restore_best_weights=False\n",
        "# )\n",
        "\n",
        "\n",
        "epochs = 100\n",
        "cp_callback = tf.keras.callbacks.ModelCheckpoint(filepath=checkpoint_path,\n",
        "                                                 monitor='val_loss', verbose=1, \n",
        "                                                 save_best_only=True, mode='min')\n",
        "\n",
        "history = model.fit(x_train, y_train, validation_data=(x_val, y_val), epochs=epochs,batch_size=32, \n",
        "                    verbose=1, shuffle =True,\n",
        "                    callbacks=[cp_callback])"
      ],
      "metadata": {
        "id": "vjLpGRtbIcw7"
      },
      "execution_count": null,
      "outputs": []
    },
    {
      "cell_type": "markdown",
      "source": [
        "## Evaluation 5 min valuation 5 min Arbitrage\n",
        "\n"
      ],
      "metadata": {
        "id": "y5ce2unxIgC3"
      }
    },
    {
      "cell_type": "code",
      "source": [
        "#loading weights of best previously trained model\n",
        "#set up model in RTP+DAP tab under training\n",
        "model_name = net + '_best.hdf5'\n",
        "# dir = folder + region + '_tests\\\\' + test + '\\\\' + model_name\n",
        "dir = folder + region + '_tests\\\\' + test + '\\\\extreme\\\\' + model_name\n",
        "model.load_weights(dir)"
      ],
      "metadata": {
        "id": "9DXgmaQ0c9mU"
      },
      "execution_count": null,
      "outputs": []
    },
    {
      "cell_type": "code",
      "source": [
        "# CNNLSTM evaluate function automatically extracts unseen test data from\n",
        "# full data vector\n",
        "# need to run this to extract 5 min value prediction for later downsampling\n",
        "# and hour prediction\n",
        "print('NYC PREDICTED:')\n",
        "v1_NYC, arb1_NY, _ = CNNLSTM_evaluate(model, DAP_NYC, RTP_NYC, \n",
        "                                    startTest, stopTest, lastDay,\n",
        "                                    num_DAP, num_RTP, Pr=Pr)\n",
        "print('\\nLONGIL PREDICTED:')\n",
        "v1_LONGIL, arb1_LONGIL, _  = CNNLSTM_evaluate(model, DAP_LONGIL, RTP_LONGIL, \n",
        "                                          startTest, stopTest, lastDay, \n",
        "                                          num_DAP, num_RTP, Pr=Pr)\n",
        "print('\\nNORTH PREDICTED:')\n",
        "v1_NORTH, arb1_NORTH, _ = CNNLSTM_evaluate(model, DAP_NORTH, RTP_NORTH, \n",
        "                                        startTest, stopTest, lastDay, \n",
        "                                        num_DAP, num_RTP, Pr=Pr)\n",
        "print('\\nWEST PREDICTED:')\n",
        "v1_WEST, arb1_WEST, _ = CNNLSTM_evaluate(model, DAP_WEST, RTP_WEST, \n",
        "                                      startTest, stopTest, lastDay, \n",
        "                                      num_DAP, num_RTP, Pr=Pr)\n",
        "#function outputs T_CNN, but to avoid having to run this everytime, T_CNN is\n",
        "  #also declared in prep work"
      ],
      "metadata": {
        "id": "DkNpZAuqInT8"
      },
      "execution_count": null,
      "outputs": []
    },
    {
      "cell_type": "code",
      "source": [
        "'''\n",
        "optimal profits to beat, T_CNN is received from CNNLSTM_evaluate function to \n",
        "make sure that the optimal and prediction are evaluated for the same time steps\n",
        "'''\n",
        "print('NYC OPTIMAL:')\n",
        "\n",
        "evaluate_using_v(rtp_NYC[12:], vAvg_NYC[:, 12:], \n",
        "                 eta, c, T_CNN,\n",
        "                 Ts, Pr)\n",
        "print('\\nLONGIL OPTIMAL:')\n",
        "evaluate_using_v(rtp_LONGIL[12:], vAvg_LONGIL[:, 12:], \n",
        "                 eta, c, T_CNN,\n",
        "                 Ts, Pr)\n",
        "print('\\nNORTH OPTIMAL:')\n",
        "evaluate_using_v(rtp_NORTH[12:], vAvg_NORTH[:, 12:], \n",
        "                 eta, c, T_CNN,\n",
        "                 Ts, Pr)\n",
        "print('\\nWEST OPTIMAL:')\n",
        "evaluate_using_v(rtp_WEST[12:], vAvg_WEST[:, 12:], \n",
        "                 eta, c, T_CNN,\n",
        "                 Ts, Pr)"
      ],
      "metadata": {
        "id": "RYjSMWbrNK9h",
        "colab": {
          "base_uri": "https://localhost:8080/"
        },
        "outputId": "4ba2dd2a-5bcd-405f-b6d9-463a469201e6"
      },
      "execution_count": null,
      "outputs": [
        {
          "output_type": "stream",
          "name": "stdout",
          "text": [
            "NYC OPTIMAL:\n",
            "==============================\n",
            "2856\n",
            "3704\n",
            "85\n",
            "Time: 7.190615892410278\n",
            "\n",
            "LONGIL OPTIMAL:\n",
            "==============================\n",
            "5186\n",
            "6430\n",
            "124\n",
            "Time: 7.1306140422821045\n",
            "\n",
            "NORTH OPTIMAL:\n",
            "==============================\n",
            "2843\n",
            "3892\n",
            "105\n",
            "Time: 7.140904903411865\n",
            "\n",
            "WEST OPTIMAL:\n",
            "==============================\n",
            "5175\n",
            "6388\n",
            "121\n",
            "Time: 7.131850004196167\n"
          ]
        },
        {
          "output_type": "execute_result",
          "data": {
            "text/plain": [
              "5174.6315777112795"
            ]
          },
          "metadata": {},
          "execution_count": 85
        }
      ]
    },
    {
      "cell_type": "markdown",
      "source": [
        "### upsampling step for 10 segment"
      ],
      "metadata": {
        "id": "xBWXjWcVhe8U"
      }
    },
    {
      "cell_type": "code",
      "source": [
        "#predictions\n",
        "\n",
        "print('NYC PREDICTED:')\n",
        "v1_NYC, arb1_NY, _ = CNNLSTM_evaluate(model, DAP_NYC, RTP_NYC, \n",
        "                                    startTest, stopTest, lastDay,\n",
        "                                    num_DAP, num_RTP, Pr=Pr, rebin=10)\n",
        "print('\\nLONGIL PREDICTED:')\n",
        "v1_LONGIL, arb1_LONGIL, _  = CNNLSTM_evaluate(model, DAP_LONGIL, RTP_LONGIL, \n",
        "                                          startTest, stopTest, lastDay, \n",
        "                                          num_DAP, num_RTP, Pr=Pr, rebin=10)\n",
        "print('\\nNORTH PREDICTED:')\n",
        "v1_NORTH, arb1_NORTH, _ = CNNLSTM_evaluate(model, DAP_NORTH, RTP_NORTH, \n",
        "                                        startTest, stopTest, lastDay, \n",
        "                                        num_DAP, num_RTP, Pr=Pr, rebin=10)\n",
        "print('\\nWEST PREDICTED:')\n",
        "v1_WEST, arb1_WEST, _ = CNNLSTM_evaluate(model, DAP_WEST, RTP_WEST, \n",
        "                                      startTest, stopTest, lastDay, \n",
        "                                      num_DAP, num_RTP, Pr=Pr, rebin=10)"
      ],
      "metadata": {
        "colab": {
          "base_uri": "https://localhost:8080/",
          "height": 1000
        },
        "id": "xhjDOecDtb1v",
        "outputId": "e027958e-4bc6-4a11-9b59-528633fa9714"
      },
      "execution_count": null,
      "outputs": [
        {
          "output_type": "stream",
          "name": "stdout",
          "text": [
            "NYC PREDICTED:\n",
            "==============================\n",
            "Evaluating using X_test\n",
            "==============================\n",
            "Profit:  9969\n",
            "Revenue:  12878\n",
            "291\n",
            "Time: 22.18666434288025\n",
            "\n",
            "LONGIL PREDICTED:\n",
            "==============================\n",
            "Evaluating using X_test\n",
            "==============================\n"
          ]
        },
        {
          "output_type": "error",
          "ename": "KeyboardInterrupt",
          "evalue": "ignored",
          "traceback": [
            "\u001b[1;31m---------------------------------------------------------------------------\u001b[0m",
            "\u001b[1;31mKeyboardInterrupt\u001b[0m                         Traceback (most recent call last)",
            "Input \u001b[1;32mIn [102]\u001b[0m, in \u001b[0;36m<cell line: 8>\u001b[1;34m()\u001b[0m\n\u001b[0;32m      4\u001b[0m v1_NYC, arb1_NY, _ \u001b[38;5;241m=\u001b[39m CNNLSTM_evaluate(model, DAP_NYC, RTP_NYC, \n\u001b[0;32m      5\u001b[0m                                     startTest, stopTest, lastDay,\n\u001b[0;32m      6\u001b[0m                                     num_DAP, num_RTP, Pr\u001b[38;5;241m=\u001b[39mPr, rebin\u001b[38;5;241m=\u001b[39m\u001b[38;5;241m10\u001b[39m)\n\u001b[0;32m      7\u001b[0m \u001b[38;5;28mprint\u001b[39m(\u001b[38;5;124m'\u001b[39m\u001b[38;5;130;01m\\n\u001b[39;00m\u001b[38;5;124mLONGIL PREDICTED:\u001b[39m\u001b[38;5;124m'\u001b[39m)\n\u001b[1;32m----> 8\u001b[0m v1_LONGIL, arb1_LONGIL, _  \u001b[38;5;241m=\u001b[39m \u001b[43mCNNLSTM_evaluate\u001b[49m\u001b[43m(\u001b[49m\u001b[43mmodel\u001b[49m\u001b[43m,\u001b[49m\u001b[43m \u001b[49m\u001b[43mDAP_LONGIL\u001b[49m\u001b[43m,\u001b[49m\u001b[43m \u001b[49m\u001b[43mRTP_LONGIL\u001b[49m\u001b[43m,\u001b[49m\u001b[43m \u001b[49m\n\u001b[0;32m      9\u001b[0m \u001b[43m                                          \u001b[49m\u001b[43mstartTest\u001b[49m\u001b[43m,\u001b[49m\u001b[43m \u001b[49m\u001b[43mstopTest\u001b[49m\u001b[43m,\u001b[49m\u001b[43m \u001b[49m\u001b[43mlastDay\u001b[49m\u001b[43m,\u001b[49m\u001b[43m \u001b[49m\n\u001b[0;32m     10\u001b[0m \u001b[43m                                          \u001b[49m\u001b[43mnum_DAP\u001b[49m\u001b[43m,\u001b[49m\u001b[43m \u001b[49m\u001b[43mnum_RTP\u001b[49m\u001b[43m,\u001b[49m\u001b[43m \u001b[49m\u001b[43mPr\u001b[49m\u001b[38;5;241;43m=\u001b[39;49m\u001b[43mPr\u001b[49m\u001b[43m,\u001b[49m\u001b[43m \u001b[49m\u001b[43mrebin\u001b[49m\u001b[38;5;241;43m=\u001b[39;49m\u001b[38;5;241;43m10\u001b[39;49m\u001b[43m)\u001b[49m\n\u001b[0;32m     11\u001b[0m \u001b[38;5;28mprint\u001b[39m(\u001b[38;5;124m'\u001b[39m\u001b[38;5;130;01m\\n\u001b[39;00m\u001b[38;5;124mNORTH PREDICTED:\u001b[39m\u001b[38;5;124m'\u001b[39m)\n\u001b[0;32m     12\u001b[0m v1_NORTH, arb1_NORTH, _ \u001b[38;5;241m=\u001b[39m CNNLSTM_evaluate(model, DAP_NORTH, RTP_NORTH, \n\u001b[0;32m     13\u001b[0m                                         startTest, stopTest, lastDay, \n\u001b[0;32m     14\u001b[0m                                         num_DAP, num_RTP, Pr\u001b[38;5;241m=\u001b[39mPr, rebin\u001b[38;5;241m=\u001b[39m\u001b[38;5;241m10\u001b[39m)\n",
            "File \u001b[1;32m~\\Desktop\\ESS_proj\\ESS_utils_HA.py:453\u001b[0m, in \u001b[0;36mCNNLSTM_evaluate\u001b[1;34m(model, DAP, RTP, startTest, stopTest, lastDay, num_DAP, num_RTP, TX, Pr, Ts, eta, c, rebin)\u001b[0m\n\u001b[0;32m    451\u001b[0m e \u001b[38;5;241m=\u001b[39m e0 \u001b[38;5;66;03m# initial SoC\u001b[39;00m\n\u001b[0;32m    452\u001b[0m \u001b[38;5;28;01mif\u001b[39;00m rebin \u001b[38;5;129;01mis\u001b[39;00m \u001b[38;5;129;01mnot\u001b[39;00m \u001b[38;5;28;01mNone\u001b[39;00m:\n\u001b[1;32m--> 453\u001b[0m   v3 \u001b[38;5;241m=\u001b[39m \u001b[43mrebin_up\u001b[49m\u001b[43m(\u001b[49m\u001b[43mv3\u001b[49m\u001b[43m,\u001b[49m\u001b[43m \u001b[49m\u001b[43mrebin\u001b[49m\u001b[43m)\u001b[49m\n\u001b[0;32m    454\u001b[0m   \u001b[38;5;66;03m# print(v3.shape)\u001b[39;00m\n\u001b[0;32m    455\u001b[0m \u001b[38;5;28;01mfor\u001b[39;00m t \u001b[38;5;129;01min\u001b[39;00m \u001b[38;5;28mrange\u001b[39m(T2): \u001b[38;5;66;03m# start from the first day and move forwards\u001b[39;00m\n",
            "File \u001b[1;32m~\\Desktop\\ESS_proj\\ESS_utils_HA.py:729\u001b[0m, in \u001b[0;36mrebin_up\u001b[1;34m(v, n)\u001b[0m\n\u001b[0;32m    727\u001b[0m \u001b[38;5;28;01mfor\u001b[39;00m i \u001b[38;5;129;01min\u001b[39;00m \u001b[38;5;28mrange\u001b[39m(v\u001b[38;5;241m.\u001b[39mshape[\u001b[38;5;241m1\u001b[39m]):\n\u001b[0;32m    728\u001b[0m \tf \u001b[38;5;241m=\u001b[39m interpolate\u001b[38;5;241m.\u001b[39minterp1d(x1, v[:, i])\n\u001b[1;32m--> 729\u001b[0m \tvout[:, i] \u001b[38;5;241m=\u001b[39m \u001b[43mf\u001b[49m\u001b[43m(\u001b[49m\u001b[43mx2\u001b[49m\u001b[43m)\u001b[49m\n\u001b[0;32m    731\u001b[0m     \u001b[38;5;66;03m# print(\"inds \" + str(j) + \" to \" + str(j+1))\u001b[39;00m\n\u001b[0;32m    732\u001b[0m     \u001b[38;5;66;03m# print(\"interp \" + str(j*n) + \" to \" + str((j+1)*n))\u001b[39;00m\n\u001b[0;32m    734\u001b[0m \u001b[38;5;28;01mreturn\u001b[39;00m vout\n",
            "File \u001b[1;32mC:\\python\\envs\\tf\\lib\\site-packages\\scipy\\interpolate\\_polyint.py:78\u001b[0m, in \u001b[0;36m_Interpolator1D.__call__\u001b[1;34m(self, x)\u001b[0m\n\u001b[0;32m     57\u001b[0m \u001b[38;5;124;03m\"\"\"\u001b[39;00m\n\u001b[0;32m     58\u001b[0m \u001b[38;5;124;03mEvaluate the interpolant\u001b[39;00m\n\u001b[0;32m     59\u001b[0m \n\u001b[1;32m   (...)\u001b[0m\n\u001b[0;32m     75\u001b[0m \n\u001b[0;32m     76\u001b[0m \u001b[38;5;124;03m\"\"\"\u001b[39;00m\n\u001b[0;32m     77\u001b[0m x, x_shape \u001b[38;5;241m=\u001b[39m \u001b[38;5;28mself\u001b[39m\u001b[38;5;241m.\u001b[39m_prepare_x(x)\n\u001b[1;32m---> 78\u001b[0m y \u001b[38;5;241m=\u001b[39m \u001b[38;5;28;43mself\u001b[39;49m\u001b[38;5;241;43m.\u001b[39;49m\u001b[43m_evaluate\u001b[49m\u001b[43m(\u001b[49m\u001b[43mx\u001b[49m\u001b[43m)\u001b[49m\n\u001b[0;32m     79\u001b[0m \u001b[38;5;28;01mreturn\u001b[39;00m \u001b[38;5;28mself\u001b[39m\u001b[38;5;241m.\u001b[39m_finish_y(y, x_shape)\n",
            "File \u001b[1;32mC:\\python\\envs\\tf\\lib\\site-packages\\scipy\\interpolate\\_interpolate.py:693\u001b[0m, in \u001b[0;36minterp1d._evaluate\u001b[1;34m(self, x_new)\u001b[0m\n\u001b[0;32m    688\u001b[0m \u001b[38;5;28;01mdef\u001b[39;00m \u001b[38;5;21m_evaluate\u001b[39m(\u001b[38;5;28mself\u001b[39m, x_new):\n\u001b[0;32m    689\u001b[0m     \u001b[38;5;66;03m# 1. Handle values in x_new that are outside of x. Throw error,\u001b[39;00m\n\u001b[0;32m    690\u001b[0m     \u001b[38;5;66;03m#    or return a list of mask array indicating the outofbounds values.\u001b[39;00m\n\u001b[0;32m    691\u001b[0m     \u001b[38;5;66;03m#    The behavior is set by the bounds_error variable.\u001b[39;00m\n\u001b[0;32m    692\u001b[0m     x_new \u001b[38;5;241m=\u001b[39m asarray(x_new)\n\u001b[1;32m--> 693\u001b[0m     y_new \u001b[38;5;241m=\u001b[39m \u001b[38;5;28;43mself\u001b[39;49m\u001b[38;5;241;43m.\u001b[39;49m\u001b[43m_call\u001b[49m\u001b[43m(\u001b[49m\u001b[38;5;28;43mself\u001b[39;49m\u001b[43m,\u001b[49m\u001b[43m \u001b[49m\u001b[43mx_new\u001b[49m\u001b[43m)\u001b[49m\n\u001b[0;32m    694\u001b[0m     \u001b[38;5;28;01mif\u001b[39;00m \u001b[38;5;129;01mnot\u001b[39;00m \u001b[38;5;28mself\u001b[39m\u001b[38;5;241m.\u001b[39m_extrapolate:\n\u001b[0;32m    695\u001b[0m         below_bounds, above_bounds \u001b[38;5;241m=\u001b[39m \u001b[38;5;28mself\u001b[39m\u001b[38;5;241m.\u001b[39m_check_bounds(x_new)\n",
            "File \u001b[1;32mC:\\python\\envs\\tf\\lib\\site-packages\\scipy\\interpolate\\_interpolate.py:636\u001b[0m, in \u001b[0;36minterp1d._call_linear\u001b[1;34m(self, x_new)\u001b[0m\n\u001b[0;32m    634\u001b[0m x_lo \u001b[38;5;241m=\u001b[39m \u001b[38;5;28mself\u001b[39m\u001b[38;5;241m.\u001b[39mx[lo]\n\u001b[0;32m    635\u001b[0m x_hi \u001b[38;5;241m=\u001b[39m \u001b[38;5;28mself\u001b[39m\u001b[38;5;241m.\u001b[39mx[hi]\n\u001b[1;32m--> 636\u001b[0m y_lo \u001b[38;5;241m=\u001b[39m \u001b[38;5;28;43mself\u001b[39;49m\u001b[38;5;241;43m.\u001b[39;49m\u001b[43m_y\u001b[49m\u001b[43m[\u001b[49m\u001b[43mlo\u001b[49m\u001b[43m]\u001b[49m\n\u001b[0;32m    637\u001b[0m y_hi \u001b[38;5;241m=\u001b[39m \u001b[38;5;28mself\u001b[39m\u001b[38;5;241m.\u001b[39m_y[hi]\n\u001b[0;32m    639\u001b[0m \u001b[38;5;66;03m# Note that the following two expressions rely on the specifics of the\u001b[39;00m\n\u001b[0;32m    640\u001b[0m \u001b[38;5;66;03m# broadcasting semantics.\u001b[39;00m\n",
            "\u001b[1;31mKeyboardInterrupt\u001b[0m: "
          ]
        }
      ]
    },
    {
      "cell_type": "markdown",
      "source": [
        "# ERCOT: HOUSTON"
      ],
      "metadata": {
        "id": "5_j-X0_dI-9S"
      }
    },
    {
      "cell_type": "markdown",
      "source": [
        "## Prep Work"
      ],
      "metadata": {
        "id": "B1BqM4kp59Nd"
      }
    },
    {
      "cell_type": "code",
      "source": [
        "# Houston Data 2016/2017 for training\n",
        "dir = \"C:\\\\Users\\\\Yousuf Baker\\\\Desktop\\\\ESS_proj\\\\TX_data\\\\2015\\\\\"\n",
        "RTP_H = pd.read_csv(dir + 'RTP.csv')\n",
        "DAP_H = pd.read_csv(dir + 'DAP.csv')\n",
        "RTP_H = np.asarray(RTP_H['Settlement Point Price'])\n",
        "print(RTP_H.shape)\n",
        "DAP_H = np.asarray(DAP_H['Settlement Point Price'])\n",
        "dir = \"C:\\\\Users\\\\Yousuf Baker\\\\Desktop\\\\ESS_proj\\\\TX_data\\\\2016\\\\\"\n",
        "RTP_H1 = pd.read_csv(dir + 'RTP.csv')\n",
        "DAP_H1 = pd.read_csv(dir + 'DAP.csv')\n",
        "RTP_H1 = np.asarray(RTP_H1['Settlement Point Price'])\n",
        "DAP_H1 = np.asarray(DAP_H1['Settlement Point Price'])\n",
        "dir = \"C:\\\\Users\\\\Yousuf Baker\\\\Desktop\\\\ESS_proj\\\\TX_data\\\\2017\\\\\"\n",
        "RTP_H2 = pd.read_csv(dir + 'RTP.csv')\n",
        "DAP_H2 = pd.read_csv(dir + 'DAP.csv')\n",
        "RTP_H2 = np.asarray(RTP_H2['Settlement Point Price'])\n",
        "DAP_H2 = np.asarray(DAP_H2['Settlement Point Price'])\n",
        "# RTP = np.concatenate(( RTP_H1, RTP_H2))\n",
        "# DAP = np.concatenate((DAP_H1, DAP_H2))\n",
        "RTP = np.concatenate((RTP_H, RTP_H1, RTP_H2))\n",
        "DAP = np.concatenate((DAP_H, DAP_H1, DAP_H2))"
      ],
      "metadata": {
        "id": "xkNcBhQY59Nd",
        "colab": {
          "base_uri": "https://localhost:8080/"
        },
        "outputId": "7a61826e-0bc0-4b22-d711-b1f68606ea9d"
      },
      "execution_count": null,
      "outputs": [
        {
          "output_type": "stream",
          "name": "stdout",
          "text": [
            "(35040,)\n"
          ]
        }
      ]
    },
    {
      "cell_type": "code",
      "source": [
        "#Houston Data 2018 for testing\n",
        "dir = \"C:\\\\Users\\\\Yousuf Baker\\\\Desktop\\\\ESS_proj\\\\TX_data\\\\2018\\\\\"\n",
        "RTP_H_test = pd.read_csv(dir + 'RTP.csv')\n",
        "DAP_H_test = pd.read_csv(dir + 'DAP.csv')\n",
        "RTP_H_test = np.asarray(RTP_H_test['Settlement Point Price'])\n",
        "DAP_H_test = np.asarray(DAP_H_test['Settlement Point Price'])"
      ],
      "metadata": {
        "id": "zjMu3tUd59Nd"
      },
      "execution_count": null,
      "outputs": []
    },
    {
      "cell_type": "code",
      "source": [
        "print(np.sum(RTP_H_test  < 0, axis=0))\n",
        "print(np.std(RTP_H_test))"
      ],
      "metadata": {
        "colab": {
          "base_uri": "https://localhost:8080/"
        },
        "id": "L0HAvIQh7PGE",
        "outputId": "0a5c9d8b-55c0-4ec2-c61f-d021551c7228"
      },
      "execution_count": null,
      "outputs": [
        {
          "output_type": "stream",
          "name": "stdout",
          "text": [
            "124\n",
            "76.51750084516668\n"
          ]
        }
      ]
    },
    {
      "cell_type": "code",
      "source": [
        "# SETTING PARAMETERS AND PRE-PROCESSING PRICE\n",
        "#below doesn't apply to houston, but needs to be loaded for later functions to\n",
        "# work even if not used\n",
        "# Last day for New England\n",
        "lastDay = date.toordinal(date(2019, 12, 31)) + 366 - 1 # 737789\n",
        "\n",
        "\n",
        "start = date.toordinal(date(2017, 1, 1)) + 366 - 1 # 73669\n",
        "stop = date.toordinal(date(2018, 12, 31)) + 366 - 1 # 737424\n",
        "startTest = date.toordinal(date(2019, 1, 1)) + 366 - 1\n",
        "stopTest = date.toordinal(date(2019, 12, 31)) + 366 - 2\n",
        "\n",
        "'''\n",
        "Set parameters\n",
        "'''\n",
        "Ts = 1/4 # time step: 5min\n",
        "Pr = 1/12  # normalized power rating wrt energy rating \n",
        "P = Pr*Ts  # actual power rating taking time step size into account\n",
        "eta = .9  # efficiency\n",
        "c = 10  # marginal cost\n",
        "ed = .001  # SoC sample granularity\n",
        "ef = .5  # final SoC target level, use 0 if none\n",
        "Ne = math.floor(1/ed)+1  # number of SOC samples\n",
        "e0 = .5  # Beginning SoC level\n",
        "\n",
        "\n",
        "'''\n",
        "Downsample settings\n",
        "'''\n",
        "num_segment = 1"
      ],
      "metadata": {
        "id": "dXyYzXhj59Nd"
      },
      "execution_count": null,
      "outputs": []
    },
    {
      "cell_type": "code",
      "source": [
        "print(RTP.shape)\n",
        "print(RTP_H_test.shape)"
      ],
      "metadata": {
        "colab": {
          "base_uri": "https://localhost:8080/"
        },
        "id": "HxHxvALRUtiZ",
        "outputId": "6262e11f-7489-4a8c-a0d5-9842230e39a1"
      },
      "execution_count": null,
      "outputs": [
        {
          "output_type": "stream",
          "name": "stdout",
          "text": [
            "(105216,)\n",
            "(35040,)\n"
          ]
        }
      ]
    },
    {
      "cell_type": "code",
      "source": [
        "#for training\n",
        "# T = int(len(RTP) - (24/Ts))\n",
        "# vAvg_H = generate_value_function(Ts, P, eta, c, \n",
        "#                                  ed, ef, Ne, T, \n",
        "#                                  num_segment, RTP.flatten('F'))[1]\n",
        "#for generating optimal profit for becnhmarking\n",
        "Ttest = int(len(RTP_H_test) - (24/Ts))\n",
        "vAvg_H_test = generate_value_function(Ts, P, eta, c, \n",
        "                                 ed, ef, Ne, Ttest, \n",
        "                                 num_segment, RTP_H_test.flatten('F'))[1]"
      ],
      "metadata": {
        "colab": {
          "base_uri": "https://localhost:8080/"
        },
        "id": "N-7EEwU359Nd",
        "outputId": "76c8599d-8210-4796-f17a-a47c3f509968"
      },
      "execution_count": null,
      "outputs": [
        {
          "output_type": "stream",
          "name": "stdout",
          "text": [
            "Time: 4.537904262542725\n"
          ]
        }
      ]
    },
    {
      "cell_type": "code",
      "source": [
        "print(vAvg_H.shape)\n",
        "print(vAvg_H_test.shape)"
      ],
      "metadata": {
        "id": "pppBFDQsU4-V"
      },
      "execution_count": null,
      "outputs": []
    },
    {
      "cell_type": "markdown",
      "source": [
        "## Training\n"
      ],
      "metadata": {
        "id": "8fRU9bTL59Ne"
      }
    },
    {
      "cell_type": "code",
      "source": [
        "#Training + Parameter Control\n",
        "num_RTP= 20 \n",
        "num_DAP= 18\n",
        "#setting test dir info\n",
        "folder = 'C:\\\\Users\\\\Yousuf Baker\\\\Desktop\\\\ESS_proj\\\\'\n",
        "region = 'TX'\n",
        "test = 'CNN_LSTM_' + str(num_segment) +'_12hr_HA'\n",
        "net = 't1'\n",
        "# T_H = int(RTP.shape[0]-24/Ts)\n",
        "# X, y = generate_train_CNN(T_H, DAP, RTP, \n",
        "#                           start, stop, lastDay, \n",
        "#                           num_DAP, num_RTP, vAvg_H, \n",
        "#                           TX=True, Ts=Ts)\n",
        "# X = np.asarray(X)\n",
        "# y = np.asarray(y)\n",
        "# x_train, x_val, y_train, y_val = train_test_split(X, y, \n",
        "#                                                   test_size=0.05, shuffle=True)\n",
        "# #set t1 to true or false depending on whether you want to instantiate t1 \n",
        "# #or vanilla model\n",
        "model = val_CNN_LSTM(input_size = (int(num_RTP+num_DAP), int(num_RTP+num_DAP), 1), \n",
        "                     output_size=num_segment, net=net, step=int(num_RTP+num_DAP))\n",
        "# model.summary()"
      ],
      "metadata": {
        "id": "A--ZpzJL59Ne"
      },
      "execution_count": null,
      "outputs": []
    },
    {
      "cell_type": "code",
      "source": [
        "curr_run = net + '_best_model_epoch{epoch:02d}_loss{val_loss:.5f}.hdf5'\n",
        "checkpoint_path = folder + region + '_tests\\\\' + test + '\\\\' + curr_run\n",
        "\n",
        "#uncomment for early stopping callback\n",
        "# es_callback = tf.keras.callbacks.EarlyStopping(\n",
        "#     monitor='val_loss',\n",
        "#     min_delta=0.001,\n",
        "#     patience=10,\n",
        "#     verbose=0,\n",
        "#     mode='auto',\n",
        "#     baseline=None,\n",
        "#     restore_best_weights=False\n",
        "# )\n",
        "\n",
        "\n",
        "epochs = 100\n",
        "cp_callback = tf.keras.callbacks.ModelCheckpoint(filepath=checkpoint_path,\n",
        "                                                 monitor='val_loss', verbose=1, \n",
        "                                                 save_best_only=True, mode='min')\n",
        "\n",
        "history = model.fit(x_train, y_train, validation_data=(x_val, y_val), epochs=epochs,batch_size=32, \n",
        "                    verbose=1, shuffle =True,\n",
        "                    callbacks=[cp_callback])"
      ],
      "metadata": {
        "id": "XBI3zP4659Ne"
      },
      "execution_count": null,
      "outputs": []
    },
    {
      "cell_type": "markdown",
      "source": [
        "## Evaluation"
      ],
      "metadata": {
        "id": "YKp9Ndf959Ne"
      }
    },
    {
      "cell_type": "code",
      "source": [
        "#load best model weights\n",
        "model_name = net + '_best.hdf5'\n",
        "dir = folder + region + '_tests\\\\' + test + '\\\\' + model_name\n",
        "model.load_weights(dir)"
      ],
      "metadata": {
        "id": "1ZJ2hGSJ59Nf"
      },
      "execution_count": null,
      "outputs": []
    },
    {
      "cell_type": "code",
      "source": [
        "#extracting value function from CNNLSTM_evaluate function\n",
        "v_H1, _, T_CNN = CNNLSTM_evaluate(model, DAP_H_test, RTP_H_test, \n",
        "                                    startTest, stopTest, lastDay, \n",
        "                                    num_DAP, num_RTP, TX=True, Pr=Pr, Ts=Ts)"
      ],
      "metadata": {
        "colab": {
          "base_uri": "https://localhost:8080/"
        },
        "id": "Um5OLXeB59Nf",
        "outputId": "eccd1d38-e1b6-45fa-c998-e514797968b7"
      },
      "execution_count": null,
      "outputs": [
        {
          "output_type": "stream",
          "name": "stdout",
          "text": [
            "==============================\n",
            "Evaluating using X_test\n",
            "==============================\n",
            "Profit:  8665\n",
            "Revenue:  9663\n",
            "100\n",
            "Time: 3.4381425380706787\n"
          ]
        }
      ]
    },
    {
      "cell_type": "code",
      "source": [
        "#upsampled\n",
        "v_H1u, _, T_CNN = CNNLSTM_evaluate(model, DAP_H_test, RTP_H_test, \n",
        "                                    startTest, stopTest, lastDay, \n",
        "                                    num_DAP, num_RTP, TX=True, Pr=Pr, Ts=Ts,\n",
        "                                  rebin=10)"
      ],
      "metadata": {
        "colab": {
          "base_uri": "https://localhost:8080/"
        },
        "id": "_S7iBqbarVkP",
        "outputId": "bf16ac4e-218c-4fb7-f443-c28141dda4f4"
      },
      "execution_count": null,
      "outputs": [
        {
          "output_type": "stream",
          "name": "stdout",
          "text": [
            "==============================\n",
            "Evaluating using X_test\n",
            "==============================\n",
            "Profit:  4329\n",
            "Revenue:  4912\n",
            "58\n",
            "Time: 6.232747793197632\n"
          ]
        }
      ]
    },
    {
      "cell_type": "code",
      "source": [
        "print('HOUSTON OPTIMAL:')\n",
        "evaluate_using_v(RTP_H_test[4:], vAvg_H_test[:,4:], \n",
        "                 eta, c, T_CNN, Ts, Pr=Pr)"
      ],
      "metadata": {
        "colab": {
          "base_uri": "https://localhost:8080/"
        },
        "id": "rBGsNe7V59Nf",
        "outputId": "82fb1930-1466-4e22-937f-946cc84c1f75"
      },
      "execution_count": null,
      "outputs": [
        {
          "output_type": "stream",
          "name": "stdout",
          "text": [
            "HOUSTON OPTIMAL:\n",
            "==============================\n",
            "25633\n",
            "28255\n",
            "262\n",
            "Time: 1.6602451801300049\n"
          ]
        },
        {
          "output_type": "execute_result",
          "data": {
            "text/plain": [
              "25633.326580555557"
            ]
          },
          "metadata": {},
          "execution_count": 157
        }
      ]
    },
    {
      "cell_type": "markdown",
      "source": [
        "# QUEENSLAND"
      ],
      "metadata": {
        "id": "dd8bNyhnJCt4"
      }
    },
    {
      "cell_type": "markdown",
      "source": [
        "## Prep Work"
      ],
      "metadata": {
        "id": "XSReF0j1JH1B"
      }
    },
    {
      "cell_type": "code",
      "source": [
        "#Queensland Data 2019 for training\n",
        "dir = \"C:\\\\Users\\\\Yousuf Baker\\\\Desktop\\\\ESS_proj\\\\QNSLND_data\\\\\"\n",
        "RTP_Q = pd.read_csv(dir + 'RTP_2019.csv')\n",
        "RTP_Q = np.asarray(RTP_Q['energyPrice'])\n",
        "RTP_Q = RTP_Q*0.6954 #average exchange rate to USD in 2019"
      ],
      "metadata": {
        "id": "O4128q1EJFBQ"
      },
      "execution_count": null,
      "outputs": []
    },
    {
      "cell_type": "code",
      "source": [
        "#Queensland Data 2021 for testing\n",
        "RTP_Q_test = pd.read_csv(dir + 'RTP_2021.csv')\n",
        "RTP_Q_test = np.asarray(RTP_Q_test['Energy Price ($/MWh)'])\n",
        "RTP_Q_test = RTP_Q_test*0.7513 #average exchange rate to USD in 2021"
      ],
      "metadata": {
        "id": "hiVtpOHwJNUZ"
      },
      "execution_count": null,
      "outputs": []
    },
    {
      "cell_type": "code",
      "source": [
        "print(np.sum(RTP_Q_test  < 0, axis=0))\n",
        "print(np.std(RTP_Q_test))"
      ],
      "metadata": {
        "colab": {
          "base_uri": "https://localhost:8080/"
        },
        "id": "9onYCLW67IJC",
        "outputId": "ac23a214-7943-4afc-f2c5-83b8a98e5c30"
      },
      "execution_count": null,
      "outputs": [
        {
          "output_type": "stream",
          "name": "stdout",
          "text": [
            "522\n",
            "243.00554623701174\n"
          ]
        }
      ]
    },
    {
      "cell_type": "code",
      "source": [
        "# Last day for New England\n",
        "lastDay = date.toordinal(date(2019, 12, 31)) + 366 - 1 # 737789\n",
        "\n",
        "\n",
        "start = date.toordinal(date(2017, 1, 1)) + 366 - 1 # 73669\n",
        "stop = date.toordinal(date(2018, 12, 31)) + 366 - 1 # 737424\n",
        "startTest = date.toordinal(date(2019, 1, 1)) + 366 - 1\n",
        "stopTest = date.toordinal(date(2019, 12, 31)) + 366 - 2\n",
        "'''\n",
        "Set parameters\n",
        "'''\n",
        "Ts = 1/12 # time step: 5min\n",
        "Pr = 1/12 # normalized power rating wrt energy rating \n",
        "P = Pr*Ts  # actual power rating taking time step size into account\n",
        "eta = .9  # efficiency\n",
        "c = 10  # marginal cost\n",
        "ed = .001  # SoC sample granularity\n",
        "ef = .5  # final SoC target level, use 0 if none\n",
        "Ne = math.floor(1/ed)+1  # number of SOC samples\n",
        "e0 = .5  # Beginning SoC level\n",
        "\n",
        "\n",
        "'''\n",
        "Downsample settings\n",
        "'''\n",
        "num_segment = 10"
      ],
      "metadata": {
        "id": "MbwUPjVAJPYq"
      },
      "execution_count": null,
      "outputs": []
    },
    {
      "cell_type": "code",
      "source": [
        "#for transfer learning\n",
        "Ttrain = 288*7+12 #number of days used in training, set this according to mode\n",
        "# Ttrain = len(RTP_Q.flatten('F'))-288\n",
        "vAvg_Q = generate_value_function(Ts, P, eta, c, \n",
        "                                 ed, ef, Ne, Ttrain, \n",
        "                                 num_segment, RTP_Q.flatten('F'))[1]\n",
        "#for generating optimal profit for becnhmarking\n",
        "# Ttest = int(len(RTP_Q_test.flatten('F'))-288)\n",
        "# vAvg_Q_test = generate_value_function(Ts, P, eta, c, \n",
        "#                                  ed, ef, Ne, Ttest, \n",
        "#                                  num_segment, RTP_Q_test.flatten('F'))[1]"
      ],
      "metadata": {
        "id": "g1-gZC24Jp03",
        "colab": {
          "base_uri": "https://localhost:8080/"
        },
        "outputId": "3e648ba5-7d21-4b79-cb27-5ae387a89111"
      },
      "execution_count": null,
      "outputs": [
        {
          "output_type": "stream",
          "name": "stdout",
          "text": [
            "Time: 0.23086953163146973\n"
          ]
        }
      ]
    },
    {
      "cell_type": "code",
      "source": [
        "print(Ttrain)"
      ],
      "metadata": {
        "colab": {
          "base_uri": "https://localhost:8080/"
        },
        "id": "5F1w4Ab6Jn0l",
        "outputId": "7ab00a0d-8268-46e2-fdce-5d6109290dc6"
      },
      "execution_count": null,
      "outputs": [
        {
          "output_type": "stream",
          "name": "stdout",
          "text": [
            "102816\n"
          ]
        }
      ]
    },
    {
      "cell_type": "markdown",
      "source": [
        "## Transfer Learning"
      ],
      "metadata": {
        "id": "OxymlzG-KBq9"
      }
    },
    {
      "cell_type": "code",
      "source": [
        "#Training + Parameter Control\n",
        "# T_Q = 102792 #using all days in training set (1 year)\n",
        "#modes below for saving model for different data scarcity scenarios\n",
        "modes = ['3d', '1w', '1m', '6m', '1y'] #for training from scratch\n",
        "# modes = ['tl_3d', 'tl_1w', 'tl_1m', 'tl_6m', 'tl_1y'] #for transfer learning\n",
        "mode = modes[0] #pick mode based on how many months/days you want\n",
        "# T_Q = Ttrain-12\n",
        "num_RTP=60\n",
        "#setting test dir info\n",
        "folder = 'C:\\\\Users\\\\Yousuf Baker\\\\Desktop\\\\ESS_proj\\\\'\n",
        "\n",
        "region = 'QNSLND'\n",
        "test = 'CNN_LSTM_' + str(num_segment) +'_12hr_HA_RTP'\n",
        "net = 't1'\n",
        "\n",
        "# X, y = generate_train_CNN_RTP(T_Q, RTP_Q.flatten('F'), \n",
        "#                               start, stop, lastDay, \n",
        "#                               num_RTP, vAvg_Q)\n",
        "# X = np.asarray(X)\n",
        "# y = np.asarray(y)\n",
        "\n",
        "# x_train, x_val, y_train, y_val = train_test_split(X, y, test_size=0.05, \n",
        "#                                                   shuffle=True)\n",
        "model = val_CNN_LSTM(output_size=num_segment, net=net)\n",
        "# model.summary()"
      ],
      "metadata": {
        "id": "YHx53uBdKrnQ"
      },
      "execution_count": null,
      "outputs": []
    },
    {
      "cell_type": "code",
      "source": [
        "#ONLY RUN THIS CELL IF YOU ARE TRANSFER LEARNING\n",
        "# Note transfer learning here uses only RTP model from NY zone\n",
        "dir = folder + 'NY_tests\\\\' + test + '\\\\' + net + '_best.hdf5'\n",
        "print(dir)\n",
        "#freezing all weights save for last dense layer (-3 bc reshapes after dense)\n",
        "model.load_weights(dir)\n",
        "for layer in model.layers[:-3]:\n",
        "    layer.trainable = False"
      ],
      "metadata": {
        "id": "5AjQzyiVKcBB",
        "colab": {
          "base_uri": "https://localhost:8080/"
        },
        "outputId": "32f534fa-bc9a-4d70-d706-15144a3ec00e"
      },
      "execution_count": null,
      "outputs": [
        {
          "output_type": "stream",
          "name": "stdout",
          "text": [
            "C:\\Users\\Yousuf Baker\\Desktop\\ESS_proj\\NY_tests\\CNN_LSTM_10_12hr_HA_RTP\\t1_best.hdf5\n"
          ]
        }
      ]
    },
    {
      "cell_type": "code",
      "source": [
        "curr_run = net + '_best_model_epoch{epoch:02d}_loss{val_loss:.5f}.hdf5'\n",
        "\n",
        "checkpoint_path = folder + region + '_tests\\\\' + test + '\\\\'+ mode + '\\\\' + curr_run\n",
        "\n",
        "#uncomment for early stopping callback\n",
        "# es_callback = tf.keras.callbacks.EarlyStopping(\n",
        "#     monitor='val_loss',\n",
        "#     min_delta=0.001,\n",
        "#     patience=10,\n",
        "#     verbose=0,\n",
        "#     mode='auto',\n",
        "#     baseline=None,\n",
        "#     restore_best_weights=False\n",
        "# )\n",
        "\n",
        "\n",
        "# epochs =  25 #TL\n",
        "epochs = 100 #no TL\n",
        "cp_callback = tf.keras.callbacks.ModelCheckpoint(filepath=checkpoint_path,\n",
        "                                                 monitor='val_loss', verbose=1, \n",
        "                                                 save_best_only=True, mode='min')\n",
        "cb = TimeHistory()\n",
        "history = model.fit(x_train, y_train, validation_data=(x_val, y_val), epochs=epochs,batch_size=32, \n",
        "                    verbose=1, shuffle =True,\n",
        "                    callbacks=[cp_callback, cb])"
      ],
      "metadata": {
        "id": "LYnFyOU0LbR5"
      },
      "execution_count": null,
      "outputs": []
    },
    {
      "cell_type": "code",
      "source": [
        "#calculate convergence time (time to last epoch v.error improved/model saved)\n",
        "#you can read the above from the directory where weights are saved \n",
        "times = cb.times\n",
        "print(sum(times[:]))"
      ],
      "metadata": {
        "colab": {
          "base_uri": "https://localhost:8080/"
        },
        "id": "U6LTQu7vZZ26",
        "outputId": "30517696-f04b-4ceb-c46e-8f9a335ec80f"
      },
      "execution_count": null,
      "outputs": [
        {
          "output_type": "stream",
          "name": "stdout",
          "text": [
            "102.20420956611633\n"
          ]
        }
      ]
    },
    {
      "cell_type": "markdown",
      "source": [
        "## Evaluation"
      ],
      "metadata": {
        "id": "WwnsA-DJLild"
      }
    },
    {
      "cell_type": "code",
      "source": [
        "#load best model weights from rest\n",
        "model_name = net + '_best.hdf5'\n",
        "\n",
        "dir = folder + region + '_tests\\\\' + test + '\\\\'+ mode + '\\\\' + model_name\n",
        "model.load_weights(dir)\n",
        "print(dir)"
      ],
      "metadata": {
        "id": "lcEgQrEFLk5z",
        "colab": {
          "base_uri": "https://localhost:8080/"
        },
        "outputId": "f2214afe-8e4c-4916-a5f8-5699f9f84dc1"
      },
      "execution_count": null,
      "outputs": [
        {
          "output_type": "stream",
          "name": "stdout",
          "text": [
            "C:\\Users\\Yousuf Baker\\Desktop\\ESS_proj\\QNSLND_tests\\CNN_LSTM_10_12hr_HA_RTP\\3d\\t1_best.hdf5\n"
          ]
        }
      ]
    },
    {
      "cell_type": "code",
      "source": [
        "print('QUEENSLAND PREDICTED:')\n",
        "vR_Q, arbR_Q, T_CNN = CNNLSTM_evaluate_RTP(model, RTP_Q_test, \n",
        "                                    startTest, stopTest, lastDay, \n",
        "                                    num_RTP, Q=True, Pr=Pr)"
      ],
      "metadata": {
        "id": "oyDsnguLL_2E",
        "colab": {
          "base_uri": "https://localhost:8080/"
        },
        "outputId": "f99eceb6-8b1a-4d02-a844-42f18b10e932"
      },
      "execution_count": null,
      "outputs": [
        {
          "output_type": "stream",
          "name": "stdout",
          "text": [
            "QUEENSLAND PREDICTED:\n",
            "==============================\n",
            "Evaluating using X_test\n",
            "==============================\n",
            "Profit:  2761\n",
            "Revenue:  3039\n",
            "28\n",
            "Time: 3.6348459720611572\n"
          ]
        }
      ]
    },
    {
      "cell_type": "code",
      "source": [
        "print('QUEENSLAND PREDICTED UPSAMPLE:')\n",
        "vR_Q, arbR_Q, T_CNN = CNNLSTM_evaluate_RTP(model, RTP_Q_test, \n",
        "                                    startTest, stopTest, lastDay, \n",
        "                                    num_RTP, Q=True, Pr=Pr, rebin=10)"
      ],
      "metadata": {
        "colab": {
          "base_uri": "https://localhost:8080/"
        },
        "id": "3YpjnEyj2O-k",
        "outputId": "760a0faa-654e-444a-b395-d8a4aeb1a3fc"
      },
      "execution_count": null,
      "outputs": [
        {
          "output_type": "stream",
          "name": "stdout",
          "text": [
            "QUEENSLAND PREDICTED UPSAMPLE:\n",
            "==============================\n",
            "Evaluating using X_test\n",
            "==============================\n",
            "Profit:  2709\n",
            "Revenue:  3026\n",
            "32\n",
            "Time: 9.305375099182129\n"
          ]
        }
      ]
    },
    {
      "cell_type": "code",
      "source": [
        "num_RTP = 60\n",
        "print('QUEENSLAND OPTIMAL:')\n",
        "evaluate_using_v(RTP_Q_test[12:], vAvg_Q_test[:,12:],\n",
        "                 eta, c, T_CNN, Ts=Ts, Pr=Pr)"
      ],
      "metadata": {
        "id": "NCNIfEV4M3wj",
        "colab": {
          "base_uri": "https://localhost:8080/"
        },
        "outputId": "a4e162cc-73f7-4204-9d1f-c81575bf7a46"
      },
      "execution_count": null,
      "outputs": [
        {
          "output_type": "stream",
          "name": "stdout",
          "text": [
            "QUEENSLAND OPTIMAL:\n",
            "==============================\n",
            "16993\n",
            "18336\n",
            "134\n",
            "Time: 2.265115976333618\n"
          ]
        },
        {
          "output_type": "execute_result",
          "data": {
            "text/plain": [
              "16992.880776092203"
            ]
          },
          "metadata": {},
          "execution_count": 528
        }
      ]
    },
    {
      "cell_type": "markdown",
      "source": [
        "# CALIFORNIA: WALNUT"
      ],
      "metadata": {
        "id": "uY4QMx9XeAFR"
      }
    },
    {
      "cell_type": "code",
      "source": [
        "#CAL Data\n",
        "# DATA IMPORTS\n",
        "dir = \"C:\\\\Users\\\\Yousuf Baker\\\\Desktop\\\\ESS_proj\\\\CAL_data\\\\\"\n",
        "dat = scipy.io.loadmat(dir + \"WALNUT.mat\")\n",
        "RTPC = dat['Q']\n",
        "RTP_C = RTPC[:,(-365*2):(-365)].flatten('F')\n",
        "#testing\n",
        "RTP_C_test = RTPC[:,-365:].flatten('F')"
      ],
      "metadata": {
        "id": "tYuO18SoeAFS"
      },
      "execution_count": null,
      "outputs": []
    },
    {
      "cell_type": "code",
      "source": [
        "print(np.sum(RTP_C_test  < 0, axis=0))\n",
        "print(np.std(RTP_C_test))"
      ],
      "metadata": {
        "colab": {
          "base_uri": "https://localhost:8080/"
        },
        "id": "beO-8iQH65oD",
        "outputId": "94822ae6-7fce-46c7-b0ff-c20c6d333b8a"
      },
      "execution_count": null,
      "outputs": [
        {
          "output_type": "stream",
          "name": "stdout",
          "text": [
            "3286\n",
            "55.546383634017296\n"
          ]
        }
      ]
    },
    {
      "cell_type": "markdown",
      "source": [
        "## Prep Work"
      ],
      "metadata": {
        "id": "ODS4SNqOeAFS"
      }
    },
    {
      "cell_type": "code",
      "source": [
        "# Last day for New England\n",
        "lastDay = date.toordinal(date(2019, 12, 31)) + 366 - 1 # 737789\n",
        "\n",
        "\n",
        "start = date.toordinal(date(2017, 1, 1)) + 366 - 1 # 73669\n",
        "stop = date.toordinal(date(2018, 12, 31)) + 366 - 1 # 737424\n",
        "startTest = date.toordinal(date(2019, 1, 1)) + 366 - 1\n",
        "stopTest = date.toordinal(date(2019, 12, 31)) + 366 - 2\n",
        "'''\n",
        "Set parameters\n",
        "'''\n",
        "Ts = 1/12 # time step: 5min\n",
        "Pr = 1/12 # normalized power rating wrt energy rating \n",
        "P = Pr*Ts  # actual power rating taking time step size into account\n",
        "eta = .9  # efficiency\n",
        "c = 10  # marginal cost\n",
        "ed = .001  # SoC sample granularity\n",
        "ef = .5  # final SoC target level, use 0 if none\n",
        "Ne = math.floor(1/ed)+1  # number of SOC samples\n",
        "e0 = .5  # Beginning SoC level\n",
        "\n",
        "\n",
        "'''\n",
        "Downsample settings\n",
        "'''\n",
        "num_segment = 10"
      ],
      "metadata": {
        "id": "NA8tzUCFeAFS"
      },
      "execution_count": null,
      "outputs": []
    },
    {
      "cell_type": "code",
      "source": [
        "#for transfer learning\n",
        "# Ttrain = len(RTP_C.flatten('F')) - 288\n",
        "Ttrain = 288*3+12\n",
        "vAvg_C = generate_value_function(Ts, P, eta, c, \n",
        "                                 ed, ef, Ne, Ttrain, \n",
        "                                 num_segment, RTP_C.flatten('F'))[1]\n",
        "# for generating optimal profit for becnhmarking\n",
        "# Ttest = int(len(RTP_C_test.flatten('F'))-288)\n",
        "# vAvg_C_test = generate_value_function(Ts, P, eta, c, \n",
        "#                                  ed, ef, Ne, Ttest, \n",
        "#                                  num_segment, RTP_C_test.flatten('F'))[1]"
      ],
      "metadata": {
        "colab": {
          "base_uri": "https://localhost:8080/"
        },
        "outputId": "262804a0-907b-47f0-ea8b-fc245b3d1c52",
        "id": "f0fDIXe_eAFS"
      },
      "execution_count": null,
      "outputs": [
        {
          "output_type": "stream",
          "name": "stdout",
          "text": [
            "Time: 0.2336432933807373\n"
          ]
        }
      ]
    },
    {
      "cell_type": "code",
      "source": [
        "print(np.std(RTP_C[:288*3+12]))\n",
        "print(np.sum(RTP_C[:288*3+12]  < 0, axis=0))\n",
        "print(np.std(RTP_C))\n",
        "print(np.sum(RTP_C  < 0, axis=0))"
      ],
      "metadata": {
        "colab": {
          "base_uri": "https://localhost:8080/"
        },
        "id": "b8mnYmIZWt37",
        "outputId": "ebe3c9d3-8912-461d-f35b-7395f7afde2c"
      },
      "execution_count": null,
      "outputs": [
        {
          "output_type": "stream",
          "name": "stdout",
          "text": [
            "66.52669176326495\n",
            "0\n",
            "51.833098678923285\n",
            "4346\n"
          ]
        }
      ]
    },
    {
      "cell_type": "markdown",
      "source": [
        "## Transfer Learning"
      ],
      "metadata": {
        "id": "ZU4mwPZHeAFS"
      }
    },
    {
      "cell_type": "code",
      "source": [
        "#Training + Parameter Control\n",
        "# T_C = 102792 #choosing days for queensland training, full\n",
        "# modes = ['3d', '1w', '1m', '6m', '1y']\n",
        "modes = ['tl_3d', 'tl_1w', 'tl_1m', 'tl_6m', 'tl_1y']\n",
        "mode = modes[4]\n",
        "# T_C = Ttrain-12\n",
        "num_RTP=60\n",
        "#setting test dir info\n",
        "folder = 'C:\\\\Users\\\\Yousuf Baker\\\\Desktop\\\\ESS_proj\\\\'\n",
        "\n",
        "region = 'CAL'\n",
        "test = 'CNN_LSTM_' + str(num_segment) +'_12hr_HA_RTP'\n",
        "net = 't1'\n",
        "\n",
        "# X, y = generate_train_CNN_RTP(T_C, RTP_C.flatten('F'), \n",
        "#                               start, stop, lastDay, \n",
        "#                               num_RTP, vAvg_C)\n",
        "# X = np.asarray(X)\n",
        "# y = np.asarray(y)\n",
        "\n",
        "# x_train, x_val, y_train, y_val = train_test_split(X, y, test_size=0.05, \n",
        "#                                                   shuffle=True)\n",
        "model = val_CNN_LSTM(output_size=num_segment, net=net)\n",
        "# model.summary()"
      ],
      "metadata": {
        "id": "zC5wtoODeAFT"
      },
      "execution_count": null,
      "outputs": []
    },
    {
      "cell_type": "code",
      "source": [
        "# Note transfer learning here uses only RTP model from NY zone\n",
        "dir = folder + 'NY_tests\\\\' + test + '\\\\' + net + '_best.hdf5'\n",
        "#freezing all weights save for last dense layer (-3 bc reshapes after dense)\n",
        "model.load_weights(dir)\n",
        "for layer in model.layers[:-3]:\n",
        "    layer.trainable = False"
      ],
      "metadata": {
        "id": "GBzm7mtMeAFT"
      },
      "execution_count": null,
      "outputs": []
    },
    {
      "cell_type": "code",
      "source": [
        "curr_run = net + '_best_model_epoch{epoch:02d}_loss{val_loss:.5f}.hdf5'\n",
        "\n",
        "checkpoint_path = folder + region + '_tests\\\\' + test + '\\\\'+ mode + '\\\\' + curr_run\n",
        "\n",
        "#uncomment for early stopping callback\n",
        "# es_callback = tf.keras.callbacks.EarlyStopping(\n",
        "#     monitor='val_loss',\n",
        "#     min_delta=0.001,\n",
        "#     patience=10,\n",
        "#     verbose=0,\n",
        "#     mode='auto',\n",
        "#     baseline=None,\n",
        "#     restore_best_weights=False\n",
        "# )\n",
        "\n",
        "\n",
        "# epochs =  25 #TL\n",
        "epochs = 100 #no TL\n",
        "cp_callback = tf.keras.callbacks.ModelCheckpoint(filepath=checkpoint_path,\n",
        "                                                 monitor='val_loss', verbose=1, \n",
        "                                                 save_best_only=True, mode='min')\n",
        "cb = TimeHistory()\n",
        "# t = time.time()\n",
        "history = model.fit(x_train, y_train, validation_data=(x_val, y_val), epochs=epochs,batch_size=32, \n",
        "                    verbose=1, shuffle =True,\n",
        "                    callbacks=[cp_callback, cb])\n",
        "# history = model.fit(x_train, y_train, validation_data=(x_val, y_val), epochs=epochs,batch_size=32, \n",
        "#                     verbose=1, shuffle =True,\n",
        "#                     callbacks=[cb])\n",
        "# print(\"TIME TAKEN TO TRAIN: \", time.time() - t)"
      ],
      "metadata": {
        "id": "19ZKkdxxeAFT"
      },
      "execution_count": null,
      "outputs": []
    },
    {
      "cell_type": "code",
      "source": [
        "print(checkpoint_path)"
      ],
      "metadata": {
        "id": "bIKwtaPMBPHA",
        "outputId": "a8bf4593-a02a-4b43-93c6-6544597a3815",
        "colab": {
          "base_uri": "https://localhost:8080/"
        }
      },
      "execution_count": null,
      "outputs": [
        {
          "output_type": "stream",
          "name": "stdout",
          "text": [
            "C:\\Users\\Yousuf Baker\\Desktop\\ESS_proj\\CAL_tests\\CNN_LSTM_10_0.5_HA_RTP\\tl_1w\\t1_best_model_epoch{epoch:02d}_loss{val_loss:.5f}.hdf5\n"
          ]
        }
      ]
    },
    {
      "cell_type": "markdown",
      "source": [
        "## Evaluation"
      ],
      "metadata": {
        "id": "I1svR2KbeAFT"
      }
    },
    {
      "cell_type": "code",
      "source": [
        "#load best model weights from transfer learning full\n",
        "# model_name = net + '_best.hdf5'\n",
        "#load best model weights from rest\n",
        "model_name = net + '_best.hdf5'\n",
        "\n",
        "dir = folder + region + '_tests\\\\' + test + '\\\\'+ mode + '\\\\' + model_name\n",
        "model.load_weights(dir)\n",
        "print(dir)"
      ],
      "metadata": {
        "id": "CJb2oEvXeAFT",
        "colab": {
          "base_uri": "https://localhost:8080/"
        },
        "outputId": "6bdd7de6-7f7f-4b3b-d72c-e6f40301b729"
      },
      "execution_count": null,
      "outputs": [
        {
          "output_type": "stream",
          "name": "stdout",
          "text": [
            "C:\\Users\\Yousuf Baker\\Desktop\\ESS_proj\\CAL_tests\\CNN_LSTM_10_12hr_HA_RTP\\tl_1y\\t1_best.hdf5\n"
          ]
        }
      ]
    },
    {
      "cell_type": "code",
      "source": [
        "print('WALNUT PREDICTED:')\n",
        "vR_Q, arbR_Q, T_CNN = CNNLSTM_evaluate_RTP(model, RTP_C_test, \n",
        "                                    startTest, stopTest, lastDay, \n",
        "                                    num_RTP, Q=True, Pr=Pr)"
      ],
      "metadata": {
        "colab": {
          "base_uri": "https://localhost:8080/"
        },
        "outputId": "586f1c84-3b82-4d3b-a678-aa3ca8f9bee0",
        "id": "Ulq_aSkueAFT"
      },
      "execution_count": null,
      "outputs": [
        {
          "output_type": "stream",
          "name": "stdout",
          "text": [
            "WALNUT PREDICTED:\n",
            "==============================\n",
            "Evaluating using X_test\n",
            "==============================\n",
            "Profit:  3918\n",
            "Revenue:  4752\n",
            "83\n",
            "Time: 7.50846529006958\n"
          ]
        }
      ]
    },
    {
      "cell_type": "code",
      "source": [
        "print('WALNUT PREDICTED UPSAMPLE:')\n",
        "vR_Q, arbR_Q, T_CNN = CNNLSTM_evaluate_RTP(model, RTP_C_test, \n",
        "                                    startTest, stopTest, lastDay, \n",
        "                                    num_RTP, Q=True, Pr=Pr, rebin=10)"
      ],
      "metadata": {
        "colab": {
          "base_uri": "https://localhost:8080/"
        },
        "outputId": "a1e45125-ea38-4520-a4d0-8ad259f7a521",
        "id": "P2xyaYmIeAFT"
      },
      "execution_count": null,
      "outputs": [
        {
          "output_type": "stream",
          "name": "stdout",
          "text": [
            "WALNUT PREDICTED UPSAMPLE:\n",
            "==============================\n",
            "Evaluating using X_test\n",
            "==============================\n",
            "Profit:  4558\n",
            "Revenue:  5654\n",
            "110\n",
            "Time: 22.016329288482666\n"
          ]
        }
      ]
    },
    {
      "cell_type": "code",
      "source": [
        "num_RTP = 60\n",
        "print('WALNUT OPTIMAL:')\n",
        "evaluate_using_v(RTP_C_test[12:], vAvg_C_test[:,12:],\n",
        "                 eta, c, T_CNN, Ts=Ts, Pr=Pr)"
      ],
      "metadata": {
        "colab": {
          "base_uri": "https://localhost:8080/"
        },
        "outputId": "439719be-67d6-4bac-ef72-ab69d2464376",
        "id": "70lrLbS0eAFT"
      },
      "execution_count": null,
      "outputs": [
        {
          "output_type": "stream",
          "name": "stdout",
          "text": [
            "WALNUT OPTIMAL:\n",
            "==============================\n",
            "13634\n",
            "17110\n",
            "348\n",
            "Time: 5.259012699127197\n"
          ]
        },
        {
          "output_type": "execute_result",
          "data": {
            "text/plain": [
              "13633.537431061008"
            ]
          },
          "metadata": {},
          "execution_count": 323
        }
      ]
    },
    {
      "cell_type": "markdown",
      "source": [
        "# Test to check agreement between matlab and python valuation/arbitrage\n"
      ],
      "metadata": {
        "id": "UfQ8Thmp-XyU"
      }
    },
    {
      "cell_type": "markdown",
      "source": [
        "## following exact sequence as laid out in matlab code"
      ],
      "metadata": {
        "id": "G4Js6IlEdsgh"
      }
    },
    {
      "cell_type": "code",
      "source": [
        "dir = \"C:\\\\Users\\\\Yousuf Baker\\\\Desktop\\\\ESS_proj\\\\NY_data\\\\\"\n",
        "RTP = np.array(scipy.io.loadmat(dir + \"RTP_WEST_2010_2019.mat\")['RTP'])\n",
        "DAP = np.array(scipy.io.loadmat(dir + \"DAP_WEST_2010_2019.mat\")['DAP'])"
      ],
      "metadata": {
        "id": "yeBxDYsk-ZXQ"
      },
      "execution_count": null,
      "outputs": []
    },
    {
      "cell_type": "code",
      "source": [
        "RTP = RTP[:, ind1:ind2]\n",
        "DAP = DAP[:, ind1:ind2]"
      ],
      "metadata": {
        "id": "kieoeMa77KKV"
      },
      "execution_count": null,
      "outputs": []
    },
    {
      "cell_type": "code",
      "source": [
        "rtpH = hr_rebin_1(RTP, Ts)\n",
        "dapH = hr_rebin_1(DAP, Ts)"
      ],
      "metadata": {
        "id": "yL1XZ0Zd-i9I"
      },
      "execution_count": null,
      "outputs": []
    },
    {
      "cell_type": "code",
      "source": [
        "rtpH = rtpH.flatten('F')\n",
        "dapH = dapH.flatten('F')"
      ],
      "metadata": {
        "id": "tHNZUsJA_aj5"
      },
      "execution_count": null,
      "outputs": []
    },
    {
      "cell_type": "code",
      "source": [
        "    Ts = 1/12\n",
        "    Pr = 0.25  # normalized power rating wrt energy rating (highest power input allowed to flow through particular equipment)\n",
        "    P = Pr*Ts  # actual power rating taking time step size into account, 0.5*1/12 = 0.041666666666666664\n",
        "    eta = 0.9  # efficiency\n",
        "    c = 10  # marginal discharge cost - degradation\n",
        "    ed = 0.001  # SoC sample granularity\n",
        "    ef = .5  # final SoC target level, use 0 if none (ensure that electric vehicles are sufficiently charged at the end of the period)\n",
        "    Ne = math.floor(1/ed)+1  # number of SOC samples, (1/0.001)+1=1001\n",
        "    e0 = .5  # Beginning SoC level\n",
        "    T = int(rtpH.shape[0]-24)"
      ],
      "metadata": {
        "id": "VR94meBpAAcj"
      },
      "execution_count": null,
      "outputs": []
    },
    {
      "cell_type": "code",
      "source": [
        "print(rtpH[:24])"
      ],
      "metadata": {
        "colab": {
          "base_uri": "https://localhost:8080/"
        },
        "id": "HJZxw6lYNAl8",
        "outputId": "02b97a04-93fe-4696-8e98-64403ff31fc0"
      },
      "execution_count": null,
      "outputs": [
        {
          "output_type": "stream",
          "name": "stdout",
          "text": [
            "[ 6.47583333 12.12416667 12.69333333  3.4825      6.62833333 18.04916667\n",
            " 11.69083333  0.67083333  2.20416667  1.44416667  9.88166667 10.05416667\n",
            " 12.77        3.74833333  3.32833333  9.30666667 17.12333333 26.83833333\n",
            " 49.72416667 76.665      54.325      34.5025     19.0725     10.77666667]\n"
          ]
        }
      ]
    },
    {
      "cell_type": "code",
      "source": [
        "v, vH = generate_value_function(1, (P/Ts), eta, c, ed, ef, Ne, T, 1, rtpH)"
      ],
      "metadata": {
        "colab": {
          "base_uri": "https://localhost:8080/"
        },
        "id": "pS2-ZFV-_fhv",
        "outputId": "b68916be-efd3-4033-9cfe-1318008fb222"
      },
      "execution_count": null,
      "outputs": [
        {
          "output_type": "stream",
          "name": "stdout",
          "text": [
            "Time: 1.3193295001983643\n"
          ]
        }
      ]
    },
    {
      "cell_type": "code",
      "source": [
        "plt.plot(v[:,0])"
      ],
      "metadata": {
        "colab": {
          "base_uri": "https://localhost:8080/",
          "height": 286
        },
        "id": "ipEd6Oy6-v1p",
        "outputId": "1ca329e7-9134-46e5-d96f-31be59d15ca5"
      },
      "execution_count": null,
      "outputs": [
        {
          "output_type": "execute_result",
          "data": {
            "text/plain": [
              "[<matplotlib.lines.Line2D at 0x1a90b593b80>]"
            ]
          },
          "metadata": {},
          "execution_count": 43
        },
        {
          "output_type": "display_data",
          "data": {
            "text/plain": [
              "<Figure size 432x288 with 1 Axes>"
            ],
            "image/png": "[encoded data removed]"
          },
          "metadata": {
            "needs_background": "light"
          }
        }
      ]
    },
    {
      "cell_type": "code",
      "source": [
        "rtp = RTP.flatten('F')\n",
        "T = int(rtp.shape[0]-288)"
      ],
      "metadata": {
        "id": "96APL-SkA7ZD"
      },
      "execution_count": null,
      "outputs": []
    },
    {
      "cell_type": "code",
      "source": [
        "print(rtp[0:12])"
      ],
      "metadata": {
        "colab": {
          "base_uri": "https://localhost:8080/"
        },
        "id": "3IFMhrf8PYal",
        "outputId": "f1932ef8-0c34-4c35-d5c9-a4a05435266e"
      },
      "execution_count": null,
      "outputs": [
        {
          "output_type": "stream",
          "name": "stdout",
          "text": [
            "[ 6.24  6.27  6.53  8.39 10.63 10.63  7.6   4.75  4.47  3.43  3.91  4.86]\n"
          ]
        }
      ]
    },
    {
      "cell_type": "code",
      "source": [
        "print(vH.shape)"
      ],
      "metadata": {
        "colab": {
          "base_uri": "https://localhost:8080/"
        },
        "id": "_WgMdGXR78I2",
        "outputId": "5dca6194-1da7-4dcf-80ca-6c3e02676c82"
      },
      "execution_count": null,
      "outputs": [
        {
          "output_type": "stream",
          "name": "stdout",
          "text": [
            "(1, 8737)\n"
          ]
        }
      ]
    },
    {
      "cell_type": "code",
      "source": [
        "  print(v[:, 0])"
      ],
      "metadata": {
        "colab": {
          "base_uri": "https://localhost:8080/"
        },
        "id": "0aBF8l73O1XR",
        "outputId": "4338d1eb-de01-4cde-a196-5761ae3a4e8a"
      },
      "execution_count": null,
      "outputs": [
        {
          "output_type": "stream",
          "name": "stdout",
          "text": [
            "[6.93888889 6.93888889 6.93888889 ... 5.664      5.664      5.664     ]\n"
          ]
        }
      ]
    },
    {
      "cell_type": "code",
      "source": [
        "eS = np.zeros(T) # generate the SoC series\n",
        "pS = np.zeros(T) # generate the power series\n",
        "e = 0.5\n",
        "m=0\n",
        "day = int(24/Ts)\n",
        "for t in range(T):\n",
        "  vv = vH[:, int(np.floor(m+1))]\n",
        "  e, p = ArbValue(rtp[t+day], vv, e, P, 1, eta, c, vH.shape[0])\n",
        "  eS[t] = e\n",
        "  pS[t] = p\n",
        "  m+=Ts\n",
        "ProfitOutTest = np.sum(pS * rtp[day:T+day]) - np.sum(c * pS[pS>0])\n",
        "RevenueTest = np.sum(pS * rtp[day:T+day])"
      ],
      "metadata": {
        "id": "QNzBd3gk_zUn"
      },
      "execution_count": null,
      "outputs": []
    },
    {
      "cell_type": "code",
      "source": [
        "print(\"Profit: \", round(ProfitOutTest))\n",
        "print(\"Revenue: \", round(RevenueTest))"
      ],
      "metadata": {
        "colab": {
          "base_uri": "https://localhost:8080/"
        },
        "id": "xixg7HkzAQ3z",
        "outputId": "ca318341-08df-4c22-da1e-6b2de00b06f2"
      },
      "execution_count": null,
      "outputs": [
        {
          "output_type": "stream",
          "name": "stdout",
          "text": [
            "Profit:  10103\n",
            "Revenue:  13775\n"
          ]
        }
      ]
    },
    {
      "cell_type": "markdown",
      "source": [
        "## using evaluate function"
      ],
      "metadata": {
        "id": "mWWGXAkudzVo"
      }
    },
    {
      "cell_type": "code",
      "source": [
        "evaluate_using_v_hr(rtp, vH, eta, c, T_CNN,\n",
        "                    e0, Pr=Pr, Ts=Ts)"
      ],
      "metadata": {
        "id": "3onb9uBQK8gw",
        "colab": {
          "base_uri": "https://localhost:8080/"
        },
        "outputId": "9443a229-4a18-4eeb-fc08-fa671b6bd940"
      },
      "execution_count": null,
      "outputs": [
        {
          "output_type": "stream",
          "name": "stdout",
          "text": [
            "==============================\n",
            "Profit:  20747\n",
            "Revenue:  25984\n"
          ]
        },
        {
          "output_type": "execute_result",
          "data": {
            "text/plain": [
              "20747.20387345679"
            ]
          },
          "metadata": {},
          "execution_count": 799
        }
      ]
    }
  ]
}